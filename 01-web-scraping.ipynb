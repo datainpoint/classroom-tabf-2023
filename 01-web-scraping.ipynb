{
 "cells": [
  {
   "cell_type": "markdown",
   "metadata": {
    "slideshow": {
     "slide_type": "slide"
    }
   },
   "source": [
    "# 金融科技專業科目能力課程-大數據分析\n",
    "\n",
    "> 資料爬取與大數據分析\n",
    "\n",
    "[數聚點](https://www.datainpoint.com/) | 郭耀仁 <https://linktr.ee/yaojenkuo>"
   ]
  },
  {
   "cell_type": "markdown",
   "metadata": {
    "slideshow": {
     "slide_type": "skip"
    }
   },
   "source": [
    "## 更新模組\n",
    "\n",
    "```bash\n",
    "!pip install -U beautifulsoup4\n",
    "```"
   ]
  },
  {
   "cell_type": "code",
   "execution_count": 1,
   "metadata": {
    "slideshow": {
     "slide_type": "subslide"
    }
   },
   "outputs": [],
   "source": [
    "import requests\n",
    "import json\n",
    "import xml.etree.ElementTree as ET\n",
    "from bs4 import BeautifulSoup"
   ]
  },
  {
   "cell_type": "markdown",
   "metadata": {
    "slideshow": {
     "slide_type": "slide"
    }
   },
   "source": [
    "##  關於網路資料擷取 "
   ]
  },
  {
   "cell_type": "markdown",
   "metadata": {
    "slideshow": {
     "slide_type": "subslide"
    }
   },
   "source": [
    "## 什麼是網路資料擷取？\n",
    "\n",
    "> 網路資料擷取是一種透過超文本傳輸協定（Hypertext Transfer Protocol, HTTP）直接從網際網路獲取資料的技術，對比手動透過瀏覽器擷取資料，網路資料擷取通常指的是透過自動化的程式來進行，並將擷取所得資料儲存到資料庫或試算表供後續分析使用。\n",
    "\n",
    "來源：<https://en.wikipedia.org/wiki/Web_scraping>"
   ]
  },
  {
   "cell_type": "markdown",
   "metadata": {
    "slideshow": {
     "slide_type": "subslide"
    }
   },
   "source": [
    "## 網路資料擷取的兩個核心任務\n",
    "\n",
    "1. 傳輸資料。\n",
    "2. 解析資料。"
   ]
  },
  {
   "cell_type": "markdown",
   "metadata": {
    "slideshow": {
     "slide_type": "subslide"
    }
   },
   "source": [
    "## 什麼是傳輸資料？\n",
    "\n",
    "傳輸資料指的是在網際網路的通訊協定下，瀏覽器（或者一段爬蟲程式）與網頁伺服器之間交換超文本資料的行為，專有技術名詞為超文本傳輸協定（Hypertext Transfer Protocol, HTTP）。"
   ]
  },
  {
   "cell_type": "markdown",
   "metadata": {
    "slideshow": {
     "slide_type": "subslide"
    }
   },
   "source": [
    "## 資料傳輸必定是雙向的\n",
    "\n",
    "1. 瀏覽器（或者一段爬蟲程式）傳輸資料給網頁伺服器：請求（Request）。\n",
    "2. 網頁伺服器傳輸資料給瀏覽器（或者一段爬蟲程式）：回應（Response）。"
   ]
  },
  {
   "cell_type": "markdown",
   "metadata": {
    "slideshow": {
     "slide_type": "subslide"
    }
   },
   "source": [
    "## 網路資料擷取最常使用的請求方法\n",
    "\n",
    "- GET: 請求網頁伺服器展示指定的資源，應用於取得資料。\n",
    "- POST: 提交指定資源給網頁伺服器，通常伴隨著伺服器狀態的改變。"
   ]
  },
  {
   "cell_type": "markdown",
   "metadata": {
    "slideshow": {
     "slide_type": "subslide"
    }
   },
   "source": [
    "## 透過瀏覽器的操作，我們以使用者介面進行資料的傳輸\n",
    "\n",
    "- 在瀏覽器輸入網址（Uniform Resource Locator, URL）。\n",
    "- 填寫表單然後提交。\n",
    "- 與其他的 UI 元件互動，例如下拉式選單、滑桿或複選框等。"
   ]
  },
  {
   "cell_type": "markdown",
   "metadata": {
    "slideshow": {
     "slide_type": "slide"
    }
   },
   "source": [
    "## 開發人員工具"
   ]
  },
  {
   "cell_type": "markdown",
   "metadata": {
    "slideshow": {
     "slide_type": "subslide"
    }
   },
   "source": [
    "## 我們可以透過瀏覽器的開發人員工具（Developer Tools）觀察資料的傳輸"
   ]
  },
  {
   "cell_type": "markdown",
   "metadata": {
    "slideshow": {
     "slide_type": "subslide"
    }
   },
   "source": [
    "![Imgur](https://i.imgur.com/3Synk8m.png?1)"
   ]
  },
  {
   "cell_type": "markdown",
   "metadata": {
    "slideshow": {
     "slide_type": "subslide"
    }
   },
   "source": [
    "## 點選 Network 觀察資料傳輸的細節\n",
    "\n",
    "1. 開發人員工具。\n",
    "2. 點選 Network 頁籤。\n",
    "3. 重新整理網頁。"
   ]
  },
  {
   "cell_type": "markdown",
   "metadata": {
    "slideshow": {
     "slide_type": "subslide"
    }
   },
   "source": [
    "![Imgur](https://i.imgur.com/OG0Huwj.png?1)"
   ]
  },
  {
   "cell_type": "markdown",
   "metadata": {
    "slideshow": {
     "slide_type": "subslide"
    }
   },
   "source": [
    "## 每一個檔案都是一組完整的請求與回覆\n",
    "\n",
    "- Request\n",
    "    - Headers\n",
    "    - Method\n",
    "- Response\n",
    "    - Headers\n",
    "    - Body"
   ]
  },
  {
   "cell_type": "markdown",
   "metadata": {
    "slideshow": {
     "slide_type": "subslide"
    }
   },
   "source": [
    "## 傳輸資料的不同格式\n",
    "\n",
    "- XHR(XMLHttpRequest)。\n",
    "- Doc(HTML documents)。\n",
    "- 其他（JS、CSS、Img...等）。"
   ]
  },
  {
   "cell_type": "markdown",
   "metadata": {
    "slideshow": {
     "slide_type": "subslide"
    }
   },
   "source": [
    "## 可以藉由「暫時」關閉瀏覽器 JavaScript 來猜測資料格式\n",
    "\n",
    "- 關閉 JavaScript 後資料消失，檢查 **XHR**。\n",
    "- 關閉 JavaScript 後資料仍然存在，檢查 **Doc**。"
   ]
  },
  {
   "cell_type": "markdown",
   "metadata": {
    "slideshow": {
     "slide_type": "subslide"
    }
   },
   "source": [
    "## 幾個範例網站\n",
    "\n",
    "- <https://ecshweb.pchome.com.tw/search/v3.3/>：關閉 JavaScript 後資料消失，檢查 **XHR**。\n",
    "- <https://emap.pcsc.com.tw/>：關閉 JavaScript 後資料消失，檢查 **XHR**。\n",
    "- <https://www.imdb.com/>：關閉 JavaScript 後資料仍然存在，檢查 **Doc**。\n",
    "- <https://mops.twse.com.tw/mops/web/ajax_t05st10_ifrs>：關閉 JavaScript 後資料消失，檢查 **XHR**。"
   ]
  },
  {
   "cell_type": "markdown",
   "metadata": {
    "slideshow": {
     "slide_type": "subslide"
    }
   },
   "source": [
    "## 一但找到資料，可以檢查傳輸的細節\n",
    "\n",
    "- Headers\n",
    "    - General（包含資源索取的網址、請求方式等。）\n",
    "    - Response Headers（關於回應的描述。）\n",
    "    - Request Headers（關於請求的描述。）\n",
    "    - Query String Parameters（不一定會有。）\n",
    "- Payload: POST 請求方法的 Form Data"
   ]
  },
  {
   "cell_type": "markdown",
   "metadata": {
    "slideshow": {
     "slide_type": "subslide"
    }
   },
   "source": [
    "## 一但找到資料，可以檢查傳輸的細節（續）\n",
    "\n",
    "- Preview（回應在瀏覽器上渲染的樣子。）\n",
    "- Response（回應的原始資料。）\n",
    "- Cookies（不一定會有。）"
   ]
  },
  {
   "cell_type": "markdown",
   "metadata": {
    "slideshow": {
     "slide_type": "subslide"
    }
   },
   "source": [
    "![Imgur](https://i.imgur.com/cTva78r.png?1)"
   ]
  },
  {
   "cell_type": "markdown",
   "metadata": {
    "slideshow": {
     "slide_type": "subslide"
    }
   },
   "source": [
    "![Imgur](https://i.imgur.com/LMVp0m7.png?1)"
   ]
  },
  {
   "cell_type": "markdown",
   "metadata": {
    "slideshow": {
     "slide_type": "subslide"
    }
   },
   "source": [
    "## 如何在 Python 程式與網頁伺服器之間傳輸資料？\n",
    "\n",
    "透過第三方模組 [Requests](https://requests.readthedocs.io/en/master/)。"
   ]
  },
  {
   "cell_type": "markdown",
   "metadata": {
    "slideshow": {
     "slide_type": "slide"
    }
   },
   "source": [
    "## 關於 Requests"
   ]
  },
  {
   "cell_type": "markdown",
   "metadata": {
    "slideshow": {
     "slide_type": "subslide"
    }
   },
   "source": [
    "## 什麼是 Requests？\n",
    "\n",
    "> Requests 是 Python 的超文本傳輸協定第三方模組，標榜簡潔且人性化。\n",
    "\n",
    "來源：<https://requests.readthedocs.io/en/master/>"
   ]
  },
  {
   "cell_type": "markdown",
   "metadata": {
    "slideshow": {
     "slide_type": "subslide"
    }
   },
   "source": [
    "## 以 `import` 指令載入 Requests"
   ]
  },
  {
   "cell_type": "code",
   "execution_count": 2,
   "metadata": {},
   "outputs": [],
   "source": [
    "import requests"
   ]
  },
  {
   "cell_type": "markdown",
   "metadata": {
    "slideshow": {
     "slide_type": "subslide"
    }
   },
   "source": [
    "## 如果環境中沒有安裝 Requests，載入時會遭遇 `ModuleNotFoundError`\n",
    "\n",
    "```\n",
    "Traceback (most recent call last):\n",
    "  File \"<stdin>\", line 1, in <module>\n",
    "ModuleNotFoundError: No module named 'requests'\n",
    "```"
   ]
  },
  {
   "cell_type": "markdown",
   "metadata": {
    "slideshow": {
     "slide_type": "subslide"
    }
   },
   "source": [
    "## 如果遭遇 `ModuleNotFoundError` 可以在終端機使用 `pip install` 指令安裝\n",
    "\n",
    "```bash\n",
    "pip install requests\n",
    "```"
   ]
  },
  {
   "cell_type": "markdown",
   "metadata": {
    "slideshow": {
     "slide_type": "subslide"
    }
   },
   "source": [
    "## 可以透過兩個屬性檢查版本號與安裝路徑\n",
    "\n",
    "- `__version__` 屬性檢查版本號。\n",
    "- `__file__` 屬性檢查安裝路徑。"
   ]
  },
  {
   "cell_type": "code",
   "execution_count": 3,
   "metadata": {},
   "outputs": [
    {
     "name": "stdout",
     "output_type": "stream",
     "text": [
      "2.29.0\n",
      "/Users/kuoyaojen/miniconda3/lib/python3.11/site-packages/requests/__init__.py\n"
     ]
    }
   ],
   "source": [
    "print(requests.__version__)\n",
    "print(requests.__file__)"
   ]
  },
  {
   "cell_type": "markdown",
   "metadata": {
    "slideshow": {
     "slide_type": "subslide"
    }
   },
   "source": [
    "## 使用 Requests 的兩個函數傳輸資料\n",
    "\n",
    "- `get(request_url, params=query_str_params)`：對 `request_url` 發送帶有 `query_str_params` 的 GET 請求。\n",
    "- `post(request_url, data=form_data)`：對 `request_url` 發送帶有 `form_data` 的 POST 請求。"
   ]
  },
  {
   "cell_type": "code",
   "execution_count": 4,
   "metadata": {
    "slideshow": {
     "slide_type": "subslide"
    }
   },
   "outputs": [],
   "source": [
    "request_url = \"https://ecshweb.pchome.com.tw/search/v3.3/all/results\"\n",
    "query_str_params = {\n",
    "    'q': 'macbook',\n",
    "    'page': 1,\n",
    "    'sort': 'rnk/dc'\n",
    "}\n",
    "response = requests.get(request_url, params=query_str_params)"
   ]
  },
  {
   "cell_type": "code",
   "execution_count": 5,
   "metadata": {
    "slideshow": {
     "slide_type": "subslide"
    }
   },
   "outputs": [],
   "source": [
    "request_url = \"https://emap.pcsc.com.tw/EMapSDK.aspx\"\n",
    "form_data = {\n",
    "    'commandid': 'SearchStore',\n",
    "    'city': '台北市',\n",
    "    'town': '大安區'\n",
    "}\n",
    "response = requests.post(request_url, data=form_data)"
   ]
  },
  {
   "cell_type": "code",
   "execution_count": 6,
   "metadata": {
    "slideshow": {
     "slide_type": "subslide"
    }
   },
   "outputs": [],
   "source": [
    "request_url = \"https://www.imdb.com/title/tt10048342\"\n",
    "response = requests.get(request_url)"
   ]
  },
  {
   "cell_type": "code",
   "execution_count": 7,
   "metadata": {
    "slideshow": {
     "slide_type": "subslide"
    }
   },
   "outputs": [],
   "source": [
    "request_url = \"https://mops.twse.com.tw/mops/web/ajax_t05st10_ifrs\"\n",
    "form_data = {\n",
    "    \"encodeURIComponent\": 1,\n",
    "    \"step\": 1,\n",
    "    \"firstin\": 1,\n",
    "    \"off\": 1,\n",
    "    \"queryName\": \"co_id\",\n",
    "    \"inpuType\": \"co_id\",\n",
    "    \"TYPEK\": \"all\",\n",
    "    \"isnew\": \"true\",\n",
    "    \"co_id\": \"2330\",\n",
    "    \"year\": \"112\",\n",
    "    \"month\": \"09\"\n",
    "}\n",
    "response = requests.post(request_url, data=form_data)"
   ]
  },
  {
   "cell_type": "markdown",
   "metadata": {
    "slideshow": {
     "slide_type": "subslide"
    }
   },
   "source": [
    "## 常用的 `Response` 實例屬性與方法\n",
    "\n",
    "- `status_code` 屬性來驗證超文本傳輸協定的傳輸狀態。\n",
    "- `text` 屬性以 Python 的文字型態儲存回應內容。\n",
    "- `json` 方法以 Python 的資料結構儲存回應內容。"
   ]
  },
  {
   "cell_type": "markdown",
   "metadata": {
    "slideshow": {
     "slide_type": "subslide"
    }
   },
   "source": [
    "## 依照不同資料格式解析\n",
    "\n",
    "JSON 格式：使用 `Response` 實例的 `json` 方法建立 Python 資料結構`dict` 或 `list`。"
   ]
  },
  {
   "cell_type": "markdown",
   "metadata": {
    "slideshow": {
     "slide_type": "subslide"
    }
   },
   "source": [
    "## 依照不同資料格式解析（續）\n",
    "\n",
    "XML 格式：利用標準模組 `xml` 的解析器將 `Response` 實例的 `text` 屬性轉換成 `element.tree` 實例。"
   ]
  },
  {
   "cell_type": "markdown",
   "metadata": {
    "slideshow": {
     "slide_type": "subslide"
    }
   },
   "source": [
    "## 依照不同資料格式解析（續）\n",
    "\n",
    "HTML 格式：利用第三方模組 BeautifulSoup4 的解析器將 `Response` 實例的 `text` 屬性轉換成 `beautifulsoup` 實例。"
   ]
  },
  {
   "cell_type": "markdown",
   "metadata": {
    "slideshow": {
     "slide_type": "slide"
    }
   },
   "source": [
    "## JSON 格式"
   ]
  },
  {
   "cell_type": "markdown",
   "metadata": {
    "slideshow": {
     "slide_type": "subslide"
    }
   },
   "source": [
    "## 什麼是 JSON？\n",
    "\n",
    "> JavaScript Object Notation (JSON)是依照 JavaScript 物件語法的資料格式，雖然是以 JavaScript 語法為基礎，但可獨立使用，且許多程式設計環境亦可讀取、解析並產生 JSON。JSON 可能是物件或字串。當你想從 JSON 中讀取資料時，JSON 可作為物件；當要跨網路傳送 JSON 時，就會是字串。JSON 物件可儲存於其自有的檔案中，基本上就是副檔名為 `.json` 的文字檔案。\n",
    "\n",
    "來源：[mozilla.org](https://developer.mozilla.org/en-US/docs/Learn/JavaScript/Objects/JSON)"
   ]
  },
  {
   "cell_type": "markdown",
   "metadata": {
    "slideshow": {
     "slide_type": "subslide"
    }
   },
   "source": [
    "## 如何驗證回應是否為 JSON 格式？\n",
    "\n",
    "在開發人員工具 > Network 檢視 Preview 或者 Response。"
   ]
  },
  {
   "cell_type": "markdown",
   "metadata": {
    "slideshow": {
     "slide_type": "subslide"
    }
   },
   "source": [
    "## JSON 格式資料的兩種外型\n",
    "\n",
    "- 鍵值外型：與 Python `dict` 相似。\n",
    "- 陣列外型：與 Python `list` 相似。"
   ]
  },
  {
   "cell_type": "markdown",
   "metadata": {
    "slideshow": {
     "slide_type": "subslide"
    }
   },
   "source": [
    "## 看看 JSON 格式資料\n",
    "\n",
    "<https://ecshweb.pchome.com.tw/search/v3.3/>：關閉 JavaScript 後資料消失，檢查 **XHR**。"
   ]
  },
  {
   "cell_type": "code",
   "execution_count": 8,
   "metadata": {
    "slideshow": {
     "slide_type": "-"
    }
   },
   "outputs": [],
   "source": [
    "request_url = \"https://ecshweb.pchome.com.tw/search/v3.3/all/results\"\n",
    "query_str_params = {\n",
    "    'q': 'macbook',\n",
    "    'page': 1,\n",
    "    'sort': 'rnk/dc'\n",
    "}\n",
    "response = requests.get(request_url, params=query_str_params)"
   ]
  },
  {
   "cell_type": "markdown",
   "metadata": {
    "slideshow": {
     "slide_type": "subslide"
    }
   },
   "source": [
    "## 使用 Response 實例的 `json()` 方法解析 JSON 格式資料為鍵值外型"
   ]
  },
  {
   "cell_type": "code",
   "execution_count": 9,
   "metadata": {},
   "outputs": [
    {
     "name": "stdout",
     "output_type": "stream",
     "text": [
      "<class 'dict'>\n",
      "dict_keys(['QTime', 'totalRows', 'totalPage', 'range', 'cateName', 'q', 'subq', 'token', 'isMust', 'prods'])\n"
     ]
    }
   ],
   "source": [
    "json_format = response.json()\n",
    "print(type(json_format))\n",
    "print(json_format.keys())"
   ]
  },
  {
   "cell_type": "markdown",
   "metadata": {
    "slideshow": {
     "slide_type": "subslide"
    }
   },
   "source": [
    "## 事實上 `response` 實例的 `json()` 方法是使用了標準模組 `json` 的 `loads` 函數"
   ]
  },
  {
   "cell_type": "code",
   "execution_count": 10,
   "metadata": {},
   "outputs": [
    {
     "name": "stdout",
     "output_type": "stream",
     "text": [
      "<class 'dict'>\n",
      "dict_keys(['QTime', 'totalRows', 'totalPage', 'range', 'cateName', 'q', 'subq', 'token', 'isMust', 'prods'])\n"
     ]
    }
   ],
   "source": [
    "json_format = json.loads(response.text)\n",
    "print(type(json_format))\n",
    "print(json_format.keys())"
   ]
  },
  {
   "cell_type": "markdown",
   "metadata": {
    "slideshow": {
     "slide_type": "subslide"
    }
   },
   "source": [
    "## JSON 格式資料的陣列外型"
   ]
  },
  {
   "cell_type": "code",
   "execution_count": 11,
   "metadata": {},
   "outputs": [
    {
     "name": "stdout",
     "output_type": "stream",
     "text": [
      "<class 'list'>\n",
      "20\n"
     ]
    }
   ],
   "source": [
    "print(type(json_format['prods']))\n",
    "print(len(json_format['prods']))"
   ]
  },
  {
   "cell_type": "markdown",
   "metadata": {
    "slideshow": {
     "slide_type": "slide"
    }
   },
   "source": [
    "## XML 格式"
   ]
  },
  {
   "cell_type": "markdown",
   "metadata": {
    "slideshow": {
     "slide_type": "subslide"
    }
   },
   "source": [
    "## 什麼是 XML？\n",
    "\n",
    "> XML(Extensible Markup Language) 是一種標記語言，它使用沒有預先定義名稱或功能的標籤來儲存資料，並且能透過 XPath 語法取得所需資料。\n",
    "\n",
    "來源：<https://developer.mozilla.org/en-US/docs/Web/XML>"
   ]
  },
  {
   "cell_type": "markdown",
   "metadata": {
    "slideshow": {
     "slide_type": "subslide"
    }
   },
   "source": [
    "## 如何驗證回應是否為 XML 格式？\n",
    "\n",
    "在開發人員工具 > Network 檢視 Response 的第一個標籤是否有明確宣告 XML 格式。\n",
    "\n",
    "```\n",
    "<?xml version=\"1.0\"?>...\n",
    "```"
   ]
  },
  {
   "cell_type": "markdown",
   "metadata": {
    "slideshow": {
     "slide_type": "subslide"
    }
   },
   "source": [
    "## XML 格式資料的外型\n",
    "\n",
    "由開發者自行定義的標籤組成有階層的樹狀結構。"
   ]
  },
  {
   "cell_type": "markdown",
   "metadata": {
    "slideshow": {
     "slide_type": "subslide"
    }
   },
   "source": [
    "## 看看 XML 格式資料\n",
    "\n",
    "https://emap.pcsc.com.tw/：關閉 JavaScript 後資料消失，檢查 XHR。"
   ]
  },
  {
   "cell_type": "code",
   "execution_count": 12,
   "metadata": {},
   "outputs": [],
   "source": [
    "request_url = \"https://emap.pcsc.com.tw/EMapSDK.aspx\"\n",
    "form_data = {\n",
    "    'commandid': 'SearchStore',\n",
    "    'city': '台北市',\n",
    "    'town': '大安區'\n",
    "}\n",
    "response = requests.post(request_url, data=form_data)"
   ]
  },
  {
   "cell_type": "markdown",
   "metadata": {
    "slideshow": {
     "slide_type": "subslide"
    }
   },
   "source": [
    "## XML 格式：利用標準模組 `xml` 的解析器將 `Response` 實例的 `text` 屬性轉換成 `element.tree` 實例。"
   ]
  },
  {
   "cell_type": "markdown",
   "metadata": {
    "slideshow": {
     "slide_type": "subslide"
    }
   },
   "source": [
    "## 使用 `ET` 的 `fromstring` 函數轉換文字為「可解析」的實例"
   ]
  },
  {
   "cell_type": "code",
   "execution_count": 13,
   "metadata": {},
   "outputs": [
    {
     "name": "stdout",
     "output_type": "stream",
     "text": [
      "<class 'xml.etree.ElementTree.Element'>\n"
     ]
    }
   ],
   "source": [
    "root = ET.fromstring(response.text)\n",
    "print(type(root))"
   ]
  },
  {
   "cell_type": "markdown",
   "metadata": {
    "slideshow": {
     "slide_type": "subslide"
    }
   },
   "source": [
    "## 透過 XPath 取得指定標籤儲存的資料\n",
    "\n",
    "> XPath 指的是 XML 路徑語言，透過該語言可以指定 XML 文件中指定的部分、標籤。\n",
    "\n",
    "來源：<https://developer.mozilla.org/en-US/docs/Web/XPath>"
   ]
  },
  {
   "cell_type": "code",
   "execution_count": 14,
   "metadata": {
    "slideshow": {
     "slide_type": "subslide"
    }
   },
   "outputs": [
    {
     "name": "stdout",
     "output_type": "stream",
     "text": [
      "['大台', '大信', '大敦', '中廣', '仁安', '仁愛醫', '仕吉', '台科一', '永康', '禾光', '立仁', '光忠', '吉忠', '合旺', '合維', '合億', '安居', '安松', '佑安', '技安', '辛亥', '卓聯', '和平東', '和安', '和金', '和泰', '和樂', '和鑫', '延吉', '昇隆', '東門', '欣安和', '欣隆昌', '空指部', '花市', '金信', '金華', '長星', '阿波羅', '信中', '信安', '信義', '信興', '建安', '建忠', '建南', '建綸', '恆安', '科技站', '科建', '科興', '師大', '泰利', '國館', '崇光', '康福', '統合', '統家', '統領', '通化', '頂好', '頂安', '頂東', '喜悅', '富陽', '復忠', '復昌', '復維', '敦仁', '敦禾', '敦安', '敦信', '敦南', '敦頂', '敦維', '敦親', '森美', '華電', '圓金', '愛國', '新北科', '新東帝', '新泰順', '新國聯', '溫州', '溫東', '瑞升', '瑞安', '義村', '誠安', '福亭', '鳳翔', '樂安', '樂利', '樂和', '樂隆', '黎元', '豫銘', '錢忠', '靜安', '龍和', '龍延', '龍門', '龍泉', '龍淵', '龍普', '濟南', '臨江', '臨通', '豐安', '懷生', '羅鑫', '麟光', '鑫忠孝', '鑫泰', '鑫通', '鑫富民', '鑫復']\n"
     ]
    }
   ],
   "source": [
    "# The XPath for POIName\n",
    "poinames = [e.text for e in root.findall('.//POIName')]\n",
    "print(poinames)"
   ]
  },
  {
   "cell_type": "code",
   "execution_count": 15,
   "metadata": {
    "slideshow": {
     "slide_type": "subslide"
    }
   },
   "outputs": [
    {
     "name": "stdout",
     "output_type": "stream",
     "text": [
      "['台北市大安區羅斯福路三段333巷18號1樓20號1樓(部分)', '台北市大安區信義路三段33號', '台北市大安區敦化南路二段63巷7號1樓', '台北市大安區仁愛路三段25-1號27號', '台北市大安區仁愛路四段27巷1號', '台北市大安區復興南路一段253巷52號1樓', '台北市大安區忠孝東路四段223巷42號', '台北市大安區基隆路四段43號1樓', '台北市大安區永康街43號', '台北市大安區和平東路二段63號1樓', '台北市大安區安和路二段74巷1號', '台北市大安區復興南路一段107巷5弄1號1樓', '台北市大安區延吉街72號', '台北市大安區復興南路二段151巷41號1樓', '台北市大安區四維路170巷8號1樓', '台北市大安區和平東路三段1巷51號1樓', '台北市大安區安居街33號', '台北市大安區安東街50之2號50之3號50之4號', '台北市大安區忠孝東路三段217巷1弄2號', '台北市大安區和平東路三段97號97之1號1樓', '台北市大安區辛亥路二段57號', '台北市大安區羅斯福路四段1號1樓卓聯大樓', '台北市大安區和平東路一段129之1號', '台北市大安區和平東路三段230號', '台北市大安區和平東路一段91號', '台北市大安區和平東路一段169號', '台北市大安區和平東路三段228巷45號1樓', '台北市大安區和平東路三段38號1樓', '台北市大安區延吉街237號', '台北市大安區敦化南路二段238號', '台北市大安區信義路二段198巷6號1樓', '台北市大安區安和路一段47號', '台北市大安區基隆路二段142之1號及142之2號', '台北市大安區羅斯福路4段113巷29號(空軍指揮作戰部)', '台北市大安區建國南路一段274號', '台北市大安區金山南路二段18號1樓', '台北市大安區金華街140號1樓', '台北市大安區基隆路三段85號', '台北市大安區忠孝東路四段222號224號1樓', '台北市大安區信義路三段99號1樓', '台北市大安區大安路一段218號', '台北市大安區信義路四段265巷12弄1號', '台北市大安區信義路四段32號', '台北市大安區敦化南路一段187巷29號', '台北市大安區忠孝東路三段249號', '台北市大安區建國南路二段151巷6之8號', '台北市大安區仁愛路四段151巷33號忠孝東路四段216巷32弄19號21號', '台北市大安區永康街2巷12號1樓', '台北市大安區復興南路二段203號', '台北市大安區建國南路一段28號30號', '台北市大安區復興南路二段271巷2號1樓', '台北市大安區師大路87號', '台北市大安區仁愛路四段266巷15弄22號', '台北市大安區光復南路240巷25號', '台北市大安區復興南路一段135巷5號', '台北市大安區永康街12之2號1樓', '台北市大安區忠孝東路四段181巷7弄11之1號11之2號', '台北市大安區忠孝東路四段216巷27弄1號1樓', '台北市大安區忠孝東路四段223巷9號1樓', '台北市大安區通化街26之8號', '台北市大安區仁愛路四段79號1號', '台北市大安區大安路一段67號1樓', '台北市大安區大安路一段43號', '台北市大安區復興南路二段82-1及82-2號', '台北市大安區和平東路三段298號300號1樓', '台北市大安區光復南路98之3號98之5號', '台北市大安區通化里光復南路616號', '台北市大安區復興南路二段17號', '台北市大安區忠孝東路四段148號部份', '台北市大安區敦化南路二段265巷6號1樓', '台北市大安區安和路一段86號', '台北市大安區仁愛路四段122巷50號1樓', '台北市大安區大安路一段83巷14號1樓', '台北市大安區敦化南路一段190巷10號1樓', '台北市大安區東豐街43號45號1樓', '台北市大安區辛亥路二段171巷8號', '台北市大安區信義路三段65號1樓', '台北市大安區通化街177號', '台北市大安區仁愛路四段112巷7號7號之1', '台北市大安區愛國東路75號', '台北市大安區新生南路一段3號B1樓', '台北市大安區敦化南路二段99號1樓', '台北市大安區泰順街13號', '台北市大安區光復南路180巷12號', '台北市大安區羅斯福路三段245號', '台北市大安區和平東路一段266號', '台北市大安區杭州南路二段91號', '台北市大安區瑞安街182號', '台北市大安區忠孝東路三段160號', '台北市大安區敦化南路一段247巷12號1樓', '台北市大安區羅斯福路二段31號1樓', '台北市大安區忠孝東路四段216巷68號', '台北市大安區樂業街71號73號', '台北市大安區樂利路76號78號1樓', '台北市大安區樂利路29號29-1號', '台北市大安區敦化南路二段331巷14號', '台北市大安區辛亥路三段157巷32號1樓臥龍街188巷1號1樓', '台北市大安區大安路二段102號', '台北市大安區忠孝東路四段26巷5號', '台北市大安區光復南路262號', '台北市大安區和平東路二段197號199號1樓', '台北市大安區師大路59巷13號', '台北市大安區和平東路二段38之1號40號1樓', '台北市大安區羅斯福路三段193號1樓', '台北市大安區和平東路二段118巷33號', '台北市大安區敦化南路一段233巷25號', '台北市大安區濟南路三段12號1樓', '台北市大安區安和路二段67號', '台北市大安區通安街64號1樓', '台北市大安區東豐街9號', '台北市大安區忠孝東路三段248巷9號', '台北市大安區羅斯福路三段29號31號1樓', '台北市大安區臥龍街252號及252之1號', '台北市大安區忠孝東路四段313號1樓', '台北市大安區泰順街60巷9號11號', '台北市大安區信義路四段294巷7號1樓', '台北市大安區忠孝東路四段181巷40弄22號1樓', '台北市大安區信義路三段178號1樓']\n"
     ]
    }
   ],
   "source": [
    "# The XPath for Address\n",
    "addresses = [e.text for e in root.findall('.//Address')]\n",
    "print(addresses)"
   ]
  },
  {
   "cell_type": "markdown",
   "metadata": {
    "slideshow": {
     "slide_type": "slide"
    }
   },
   "source": [
    "## HTML 格式"
   ]
  },
  {
   "cell_type": "markdown",
   "metadata": {
    "slideshow": {
     "slide_type": "subslide"
    }
   },
   "source": [
    "## 什麼是 HTML？\n",
    "\n",
    "> HTML（HyperText Markup Language，超文本標記語言）是打造網頁的基石，是表述並定義網頁架構的標記語言。HTML 包含了一系列的元素（elements），而元素包含了預先定義功能以及名稱的標籤與內容，並透過標籤來控制內容的呈現樣貌。\n",
    "\n",
    "來源：<https://developer.mozilla.org/en-US/docs/Glossary/HTML>"
   ]
  },
  {
   "cell_type": "markdown",
   "metadata": {
    "slideshow": {
     "slide_type": "subslide"
    }
   },
   "source": [
    "## 如何驗證回應是否為 HTML 格式？\n",
    "\n",
    "在開發人員工具 > Network 檢視 Response 的第一個標籤是否有明確宣告 HTML 格式。\n",
    "\n",
    "```\n",
    "<!DOCTYPE html>...\n",
    "```"
   ]
  },
  {
   "cell_type": "markdown",
   "metadata": {
    "slideshow": {
     "slide_type": "subslide"
    }
   },
   "source": [
    "## HTML 格式資料的外型\n",
    "\n",
    "由預先定義的標籤組成有階層的樹狀結構。"
   ]
  },
  {
   "cell_type": "markdown",
   "metadata": {
    "slideshow": {
     "slide_type": "subslide"
    }
   },
   "source": [
    "## 看看 HTML 格式資料\n",
    "\n",
    "<https://www.imdb.com/>：關閉 JavaScript 後資料仍然存在，檢查 Doc。"
   ]
  },
  {
   "cell_type": "code",
   "execution_count": 16,
   "metadata": {},
   "outputs": [],
   "source": [
    "request_url = \"https://www.imdb.com/title/tt0111161\"\n",
    "response = requests.get(request_url)"
   ]
  },
  {
   "cell_type": "markdown",
   "metadata": {
    "slideshow": {
     "slide_type": "subslide"
    }
   },
   "source": [
    "## 看看 HTML 格式資料（續）\n",
    "\n",
    "<https://mops.twse.com.tw/mops/web/ajax_t05st10_ifrs>：關閉 JavaScript 後資料消失，檢查 XHR。"
   ]
  },
  {
   "cell_type": "code",
   "execution_count": 17,
   "metadata": {},
   "outputs": [],
   "source": [
    "request_url = \"https://mops.twse.com.tw/mops/web/ajax_t05st10_ifrs\"\n",
    "form_data = {\n",
    "    \"encodeURIComponent\": 1,\n",
    "    \"step\": 1,\n",
    "    \"firstin\": 1,\n",
    "    \"off\": 1,\n",
    "    \"queryName\": \"co_id\",\n",
    "    \"inpuType\": \"co_id\",\n",
    "    \"TYPEK\": \"all\",\n",
    "    \"isnew\": \"true\",\n",
    "    \"co_id\": \"2330\",\n",
    "    \"year\": \"112\",\n",
    "    \"month\": \"09\"\n",
    "}\n",
    "response = requests.post(request_url, data=form_data)"
   ]
  },
  {
   "cell_type": "markdown",
   "metadata": {
    "slideshow": {
     "slide_type": "subslide"
    }
   },
   "source": [
    "## HTML 格式：利用第三方模組 Beautiful Soup 的解析器將`Response` 實例的 `text` 屬性轉換成 `soup` 實例。"
   ]
  },
  {
   "cell_type": "markdown",
   "metadata": {
    "slideshow": {
     "slide_type": "subslide"
    }
   },
   "source": [
    "## 什麼是 Beautiful Soup？\n",
    "\n",
    "> Beautiful Soup 是 Python 的第三方模組，可以讓使用者快速解析 HTML 格式資料，從中擷取出使用者需要的資料。\n",
    "\n",
    "來源：<https://www.crummy.com/software/BeautifulSoup/bs4/doc/>"
   ]
  },
  {
   "cell_type": "markdown",
   "metadata": {
    "slideshow": {
     "slide_type": "subslide"
    }
   },
   "source": [
    "## 以 `from bs4 import BeautifulSoup` 指令載入函數"
   ]
  },
  {
   "cell_type": "code",
   "execution_count": 18,
   "metadata": {
    "slideshow": {
     "slide_type": "subslide"
    }
   },
   "outputs": [],
   "source": [
    "from bs4 import BeautifulSoup"
   ]
  },
  {
   "cell_type": "markdown",
   "metadata": {
    "slideshow": {
     "slide_type": "subslide"
    }
   },
   "source": [
    "## 如果環境中沒有安裝 Beautiful Soup，載入時會遭遇 `ModuleNotFoundError`\n",
    "\n",
    "```\n",
    "Traceback (most recent call last):\n",
    "  File \"<stdin>\", line 1, in <module>\n",
    "ModuleNotFoundError: No module named 'bs4'\n",
    "```"
   ]
  },
  {
   "cell_type": "markdown",
   "metadata": {
    "slideshow": {
     "slide_type": "subslide"
    }
   },
   "source": [
    "## 如果遭遇 `ModuleNotFoundError` 可以在終端機使用 `pip install` 指令安裝\n",
    "\n",
    "```bash\n",
    "pip install beautifulsoup4\n",
    "```"
   ]
  },
  {
   "cell_type": "markdown",
   "metadata": {
    "slideshow": {
     "slide_type": "subslide"
    }
   },
   "source": [
    "## 使用 Beautiful Soup 的 `BeautifulSoup` 函數轉換文字為「可解析」的實例"
   ]
  },
  {
   "cell_type": "code",
   "execution_count": 19,
   "metadata": {},
   "outputs": [
    {
     "name": "stdout",
     "output_type": "stream",
     "text": [
      "<class 'bs4.BeautifulSoup'>\n"
     ]
    }
   ],
   "source": [
    "soup = BeautifulSoup(response.text)\n",
    "print(type(soup))"
   ]
  },
  {
   "cell_type": "markdown",
   "metadata": {
    "slideshow": {
     "slide_type": "subslide"
    }
   },
   "source": [
    "## 使用 CSS 選擇器取得指定標籤中的內容或屬性\n",
    "\n",
    "> CSS 選擇器是 CSS 規則的一部分，它能讓開發者選定要調整哪個（或哪些）HTML 元素的樣式，在爬蟲程式中我們利用 CSS 選擇進行「選定」但是不做「調整」，這是與網頁前端工程最大的不同。\n",
    "\n",
    "來源：<https://developer.mozilla.org/en-US/docs/Glossary/CSS_Selector>"
   ]
  },
  {
   "cell_type": "markdown",
   "metadata": {
    "slideshow": {
     "slide_type": "subslide"
    }
   },
   "source": [
    "## CSS 基本選擇器包含\n",
    "\n",
    "- 類型選擇器 `elementname` 例如 `h1`。\n",
    "- Class 選擇器 `.classname` 例如 `.poster`。\n",
    "- ID 選擇器 `#idname` 例如 `#main`。\n",
    "- ...等。"
   ]
  },
  {
   "cell_type": "markdown",
   "metadata": {
    "slideshow": {
     "slide_type": "subslide"
    }
   },
   "source": [
    "## 非網頁前端工程師不易快速判斷 CSS 選擇器\n",
    "\n",
    "在「欲選擇」的網頁元素按右鍵 > Inspect 觀察 CSS 選擇器該如何宣告。"
   ]
  },
  {
   "cell_type": "code",
   "execution_count": 20,
   "metadata": {
    "slideshow": {
     "slide_type": "subslide"
    }
   },
   "outputs": [
    {
     "name": "stdout",
     "output_type": "stream",
     "text": [
      "[180430282.0, -27817381.0, 1536206985.0, -102152439.0]\n"
     ]
    }
   ],
   "source": [
    "# The CSS Selector for odd rows\n",
    "odd_rows = soup.select(\"td.odd\")\n",
    "odd_rows_text = [odd_row.text.strip() for odd_row in odd_rows]\n",
    "odd_rows_numeric = [float(odd_row.replace(\",\", \"\")) for odd_row in odd_rows_text]\n",
    "print(odd_rows_numeric)"
   ]
  },
  {
   "cell_type": "code",
   "execution_count": 21,
   "metadata": {
    "slideshow": {
     "slide_type": "-"
    }
   },
   "outputs": [
    {
     "data": {
      "text/plain": [
       "{'本月': 180430282.0,\n",
       " '本月去年同期增減金額': -27817381.0,\n",
       " '本年累計': 1536206985.0,\n",
       " '本年去年累計增減金額': -102152439.0}"
      ]
     },
     "execution_count": 21,
     "metadata": {},
     "output_type": "execute_result"
    }
   ],
   "source": [
    "key_names = [\"本月\", \"本月去年同期增減金額\", \"本年累計\", \"本年去年累計增減金額\"]\n",
    "odd_rows_data = dict()\n",
    "for k, v in zip(key_names, odd_rows_numeric):\n",
    "    odd_rows_data[k] = v\n",
    "odd_rows_data"
   ]
  },
  {
   "cell_type": "code",
   "execution_count": 22,
   "metadata": {
    "slideshow": {
     "slide_type": "subslide"
    }
   },
   "outputs": [
    {
     "name": "stdout",
     "output_type": "stream",
     "text": [
      "[208247663.0, -13.36, 1638359424.0, -6.24]\n"
     ]
    }
   ],
   "source": [
    "# The CSS Selector for even rows\n",
    "even_rows = soup.select(\"td.even\")\n",
    "even_rows_text = [even_row.text.strip() for even_row in even_rows]\n",
    "even_rows_numeric = [float(even_row.replace(\",\", \"\")) for even_row in even_rows_text if len(even_row) > 0]\n",
    "print(even_rows_numeric)"
   ]
  },
  {
   "cell_type": "code",
   "execution_count": 23,
   "metadata": {},
   "outputs": [
    {
     "data": {
      "text/plain": [
       "{'去年同期': 208247663.0,\n",
       " '本月去年同期增減百分比': -13.36,\n",
       " '去年累計': 1638359424.0,\n",
       " '本年去年累計增減百分比': -6.24}"
      ]
     },
     "execution_count": 23,
     "metadata": {},
     "output_type": "execute_result"
    }
   ],
   "source": [
    "key_names = [\"去年同期\", \"本月去年同期增減百分比\", \"去年累計\", \"本年去年累計增減百分比\"]\n",
    "even_rows_data = dict()\n",
    "for k, v in zip(key_names, even_rows_numeric):\n",
    "    even_rows_data[k] = v\n",
    "even_rows_data"
   ]
  },
  {
   "cell_type": "code",
   "execution_count": 24,
   "metadata": {
    "slideshow": {
     "slide_type": "subslide"
    }
   },
   "outputs": [
    {
     "data": {
      "text/plain": [
       "{'本月': 180430282.0,\n",
       " '本月去年同期增減金額': -27817381.0,\n",
       " '本年累計': 1536206985.0,\n",
       " '本年去年累計增減金額': -102152439.0,\n",
       " '去年同期': 208247663.0,\n",
       " '本月去年同期增減百分比': -13.36,\n",
       " '去年累計': 1638359424.0,\n",
       " '本年去年累計增減百分比': -6.24}"
      ]
     },
     "execution_count": 24,
     "metadata": {},
     "output_type": "execute_result"
    }
   ],
   "source": [
    "merged_data = odd_rows_data | even_rows_data\n",
    "merged_data"
   ]
  },
  {
   "cell_type": "markdown",
   "metadata": {
    "slideshow": {
     "slide_type": "subslide"
    }
   },
   "source": [
    "## 如果對網路資料擷取很有興趣，建議再進修網頁工程\n",
    "\n",
    "- HTML/CSS/JavaScript 基礎。\n",
    "- 後端語言以及框架。\n",
    "- 資料庫基礎。"
   ]
  }
 ],
 "metadata": {
  "celltoolbar": "Slideshow",
  "kernelspec": {
   "display_name": "Python 3 (ipykernel)",
   "language": "python",
   "name": "python3"
  },
  "language_info": {
   "codemirror_mode": {
    "name": "ipython",
    "version": 3
   },
   "file_extension": ".py",
   "mimetype": "text/x-python",
   "name": "python",
   "nbconvert_exporter": "python",
   "pygments_lexer": "ipython3",
   "version": "3.11.4"
  }
 },
 "nbformat": 4,
 "nbformat_minor": 4
}
