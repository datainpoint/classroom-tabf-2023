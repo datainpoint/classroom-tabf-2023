{
 "cells": [
  {
   "cell_type": "markdown",
   "id": "5d2dcd3f",
   "metadata": {
    "slideshow": {
     "slide_type": "slide"
    }
   },
   "source": [
    "# 金融科技專業科目能力課程-大數據分析\n",
    "\n",
    "> 關聯規則：關聯與相關性探勘 <https://bit.ly/3Fn7jvR>\n",
    "\n",
    "[數聚點](https://www.datainpoint.com/) | 郭耀仁 <https://linktr.ee/yaojenkuo>"
   ]
  },
  {
   "cell_type": "markdown",
   "id": "e01be882",
   "metadata": {
    "slideshow": {
     "slide_type": "skip"
    }
   },
   "source": [
    "## 安裝模組\n",
    "\n",
    "```bash\n",
    "!pip install mlxtend\n",
    "```"
   ]
  },
  {
   "cell_type": "markdown",
   "id": "a94af3c8",
   "metadata": {
    "slideshow": {
     "slide_type": "slide"
    }
   },
   "source": [
    "## 關聯規則"
   ]
  },
  {
   "cell_type": "markdown",
   "id": "af3cbb24",
   "metadata": {
    "slideshow": {
     "slide_type": "subslide"
    }
   },
   "source": [
    "## 什麼是關聯規則\n",
    "\n",
    "- 關聯規則（Association rules）屬於機器學習中「非監督式學習（Unsupervised learning）」的一個分支。\n",
    "- 關聯規則的目標是要辨識出變數之間的關係，藉此進行預測或者決策。"
   ]
  },
  {
   "cell_type": "markdown",
   "id": "f707913e",
   "metadata": {
    "slideshow": {
     "slide_type": "subslide"
    }
   },
   "source": [
    "## 什麼是非監督式學習\n",
    "\n",
    "- 機器學習可以粗略分為兩種模型：監督式（Supervised）與非監督式（Unsupervised）。\n",
    "- 兩者的最大差異就是監督式模型具備目標陣列（Target array）$y$；但是非監督式模型並不具備目標陣列。"
   ]
  },
  {
   "cell_type": "markdown",
   "id": "8d229f96",
   "metadata": {
    "slideshow": {
     "slide_type": "subslide"
    }
   },
   "source": [
    "## 簡單比較監督式與非監督式\n",
    "\n",
    "||監督式學習|非監督式學習|\n",
    "|:-|:-----|:---------|\n",
    "|目標|逼近一個能夠讓預測目標陣列和實際目標陣列之間差異最小化的函數。|找出變數之間的特徵、關係。|\n",
    "|評估|以特定的成本函數評估。|以多元化、解釋性的指標評估。|\n",
    "|目標陣列類別|連續或者離散。|無。|"
   ]
  },
  {
   "cell_type": "markdown",
   "id": "6c7a0305",
   "metadata": {
    "slideshow": {
     "slide_type": "subslide"
    }
   },
   "source": [
    "## 常見的非監督式學習應用場景\n",
    "\n",
    "- 聚類（Clustering）。\n",
    "- 降維（Dimensionality reduction）。\n",
    "- 關聯規則（Association rules）。"
   ]
  },
  {
   "cell_type": "markdown",
   "id": "af86e3cf",
   "metadata": {
    "slideshow": {
     "slide_type": "subslide"
    }
   },
   "source": [
    "## 常見的關聯規則應用場景\n",
    "\n",
    "- 購物籃分析（Market basket analysis）。\n",
    "- 顧客區隔（Customer segmentation）。\n",
    "- 詐騙偵測（Fraud detection）。\n",
    "- 社群網路分析（Social network analysis）。\n",
    "- 推薦系統（Recommendation system）。"
   ]
  },
  {
   "cell_type": "markdown",
   "id": "6e3f8f41",
   "metadata": {
    "slideshow": {
     "slide_type": "subslide"
    }
   },
   "source": [
    "## 購物籃分析\n",
    "\n",
    "- 家喻戶曉的關聯規則應用場景、津津樂道的「啤酒與尿布」故事。\n",
    "- 暸解顧客通常會「一起」購買哪些產品，進而調整貨架的陳列或促銷，進而制定交叉銷售（Cross-selling）或追加銷售（Up-selling）的策略。"
   ]
  },
  {
   "cell_type": "markdown",
   "id": "92c40889",
   "metadata": {
    "slideshow": {
     "slide_type": "subslide"
    }
   },
   "source": [
    "## 顧客區隔\n",
    "\n",
    "- 瞭解顧客通常會「一起」購買哪些產品，可以描繪出特定幾個樣態的購買行為。\n",
    "- 基於購買行為就能將相似的顧客群體作為特定的區隔。"
   ]
  },
  {
   "cell_type": "markdown",
   "id": "7862ebee",
   "metadata": {
    "slideshow": {
     "slide_type": "subslide"
    }
   },
   "source": [
    "## 詐騙偵測\n",
    "\n",
    "- 使用關聯規則辨識釣魚網址的集中點擊或者偽冒商品的集中購買。\n",
    "- 偵測短時間內在特定商店的大量消費行為，進而制定詐騙預警保護顧客。"
   ]
  },
  {
   "cell_type": "markdown",
   "id": "0f0dc60b",
   "metadata": {
    "slideshow": {
     "slide_type": "subslide"
    }
   },
   "source": [
    "## 社群網路分析\n",
    "\n",
    "- 使用關聯規則辨識哪些主題、Hashtag 以及內容是具有前後關係與關聯的。\n",
    "- 基於發表、喜歡或分享的行為就能夠描繪出特定樣態的社群行為。"
   ]
  },
  {
   "cell_type": "markdown",
   "id": "4ff4e3f5",
   "metadata": {
    "slideshow": {
     "slide_type": "subslide"
    }
   },
   "source": [
    "## 推薦系統\n",
    "\n",
    "- 基於購物籃分析與顧客區隔，發展出交叉銷售（Cross-selling）或追加銷售（Up-selling）的推薦策略。\n",
    "- 基於社群網路分析，發展主題、討論與追蹤對象的推薦策略。"
   ]
  },
  {
   "cell_type": "markdown",
   "id": "71300ced",
   "metadata": {
    "slideshow": {
     "slide_type": "slide"
    }
   },
   "source": [
    "## 銷售資料的預處理"
   ]
  },
  {
   "cell_type": "markdown",
   "id": "0d04374b",
   "metadata": {
    "slideshow": {
     "slide_type": "subslide"
    }
   },
   "source": [
    "## 銷售資料外觀"
   ]
  },
  {
   "cell_type": "code",
   "execution_count": 1,
   "id": "95e6d408",
   "metadata": {},
   "outputs": [
    {
     "data": {
      "text/html": [
       "<div>\n",
       "<style scoped>\n",
       "    .dataframe tbody tr th:only-of-type {\n",
       "        vertical-align: middle;\n",
       "    }\n",
       "\n",
       "    .dataframe tbody tr th {\n",
       "        vertical-align: top;\n",
       "    }\n",
       "\n",
       "    .dataframe thead th {\n",
       "        text-align: right;\n",
       "    }\n",
       "</style>\n",
       "<table border=\"1\" class=\"dataframe\">\n",
       "  <thead>\n",
       "    <tr style=\"text-align: right;\">\n",
       "      <th></th>\n",
       "      <th>id</th>\n",
       "      <th>transaction</th>\n",
       "    </tr>\n",
       "  </thead>\n",
       "  <tbody>\n",
       "    <tr>\n",
       "      <th>0</th>\n",
       "      <td>1</td>\n",
       "      <td>VT</td>\n",
       "    </tr>\n",
       "    <tr>\n",
       "      <th>1</th>\n",
       "      <td>2</td>\n",
       "      <td>VTI,VXUS</td>\n",
       "    </tr>\n",
       "    <tr>\n",
       "      <th>2</th>\n",
       "      <td>3</td>\n",
       "      <td>VTI,VGK,VPL,VWO</td>\n",
       "    </tr>\n",
       "    <tr>\n",
       "      <th>3</th>\n",
       "      <td>4</td>\n",
       "      <td>VTI,VPL,VWO,VGK</td>\n",
       "    </tr>\n",
       "    <tr>\n",
       "      <th>4</th>\n",
       "      <td>5</td>\n",
       "      <td>VT</td>\n",
       "    </tr>\n",
       "    <tr>\n",
       "      <th>5</th>\n",
       "      <td>6</td>\n",
       "      <td>VTI,VXUS</td>\n",
       "    </tr>\n",
       "    <tr>\n",
       "      <th>6</th>\n",
       "      <td>7</td>\n",
       "      <td>VT</td>\n",
       "    </tr>\n",
       "  </tbody>\n",
       "</table>\n",
       "</div>"
      ],
      "text/plain": [
       "   id      transaction\n",
       "0   1               VT\n",
       "1   2         VTI,VXUS\n",
       "2   3  VTI,VGK,VPL,VWO\n",
       "3   4  VTI,VPL,VWO,VGK\n",
       "4   5               VT\n",
       "5   6         VTI,VXUS\n",
       "6   7               VT"
      ]
     },
     "execution_count": 1,
     "metadata": {},
     "output_type": "execute_result"
    }
   ],
   "source": [
    "import pandas as pd\n",
    "\n",
    "transactions = [\"VT\", \"VTI,VXUS\", \"VTI,VGK,VPL,VWO\", \"VTI,VPL,VWO,VGK\", \"VT\", \"VTI,VXUS\", \"VT\"]\n",
    "df = pd.DataFrame()\n",
    "df[\"transaction\"] = transactions\n",
    "df = df.reset_index()\n",
    "df = df.rename({\"index\": \"id\"}, axis='columns')\n",
    "df[\"id\"] = df[\"id\"] + 1\n",
    "df"
   ]
  },
  {
   "cell_type": "markdown",
   "id": "561bdb87",
   "metadata": {
    "slideshow": {
     "slide_type": "subslide"
    }
   },
   "source": [
    "## 銷售資料的預處理"
   ]
  },
  {
   "cell_type": "code",
   "execution_count": 2,
   "id": "fb24bccd",
   "metadata": {},
   "outputs": [
    {
     "data": {
      "text/plain": [
       "0                    {VT}\n",
       "1             {VTI, VXUS}\n",
       "2    {VGK, VWO, VTI, VPL}\n",
       "3    {VWO, VGK, VTI, VPL}\n",
       "4                    {VT}\n",
       "5             {VTI, VXUS}\n",
       "6                    {VT}\n",
       "Name: transaction, dtype: object"
      ]
     },
     "execution_count": 2,
     "metadata": {},
     "output_type": "execute_result"
    }
   ],
   "source": [
    "ser = df[\"transaction\"].map(lambda x: x.split(\",\"))\n",
    "ser = ser.map(set)\n",
    "ser"
   ]
  },
  {
   "cell_type": "markdown",
   "id": "0719135a",
   "metadata": {
    "slideshow": {
     "slide_type": "subslide"
    }
   },
   "source": [
    "## 摘要預處理後的銷售資料"
   ]
  },
  {
   "cell_type": "code",
   "execution_count": 3,
   "id": "4180f69c",
   "metadata": {
    "slideshow": {
     "slide_type": "-"
    }
   },
   "outputs": [
    {
     "data": {
      "text/plain": [
       "transaction\n",
       "{VT}                    3\n",
       "{VTI, VXUS}             2\n",
       "{VGK, VWO, VTI, VPL}    2\n",
       "Name: count, dtype: int64"
      ]
     },
     "execution_count": 3,
     "metadata": {},
     "output_type": "execute_result"
    }
   ],
   "source": [
    "ser.value_counts()"
   ]
  },
  {
   "cell_type": "code",
   "execution_count": 4,
   "id": "551faddc",
   "metadata": {},
   "outputs": [
    {
     "data": {
      "text/plain": [
       "transaction\n",
       "{VT}                    0.428571\n",
       "{VTI, VXUS}             0.285714\n",
       "{VGK, VWO, VTI, VPL}    0.285714\n",
       "Name: count, dtype: float64"
      ]
     },
     "execution_count": 4,
     "metadata": {},
     "output_type": "execute_result"
    }
   ],
   "source": [
    "ser.value_counts() / ser.count()"
   ]
  },
  {
   "cell_type": "markdown",
   "id": "4838e816",
   "metadata": {
    "slideshow": {
     "slide_type": "slide"
    }
   },
   "source": [
    "## 關聯規則的評估指標"
   ]
  },
  {
   "cell_type": "markdown",
   "id": "0839ae2b",
   "metadata": {
    "slideshow": {
     "slide_type": "subslide"
    }
   },
   "source": [
    "## 常用來評估關聯規則的指標\n",
    "\n",
    "- Support 支持度。\n",
    "- Confidence 信賴度。\n",
    "- Lift 提升度。"
   ]
  },
  {
   "cell_type": "markdown",
   "id": "f6760c20",
   "metadata": {
    "slideshow": {
     "slide_type": "subslide"
    }
   },
   "source": [
    "## Support 支持度\n",
    "\n",
    "- 關聯規則中最基礎、重要的評估指標。\n",
    "\n",
    "$$\n",
    "\\text{Support}(\\{X\\} \\rightarrow \\{Y\\}) = \\frac{\\text{Transactions containing both X and Y}}{\\text{Total number of transactions}}\n",
    "$$"
   ]
  },
  {
   "cell_type": "code",
   "execution_count": 5,
   "id": "2a41d076",
   "metadata": {
    "slideshow": {
     "slide_type": "subslide"
    }
   },
   "outputs": [
    {
     "name": "stdout",
     "output_type": "stream",
     "text": [
      "0.2857142857142857\n"
     ]
    }
   ],
   "source": [
    "transactions_containing_both_vti_vxus = 0\n",
    "for itemset in ser:\n",
    "    compare_set = {\"VTI\", \"VXUS\"}\n",
    "    if compare_set.issubset(itemset):\n",
    "        transactions_containing_both_vti_vxus += 1\n",
    "support_vti_vxus = transactions_containing_both_vti_vxus / ser.size\n",
    "print(support_vti_vxus)"
   ]
  },
  {
   "cell_type": "code",
   "execution_count": 6,
   "id": "ccb6588f",
   "metadata": {
    "slideshow": {
     "slide_type": "subslide"
    }
   },
   "outputs": [
    {
     "name": "stdout",
     "output_type": "stream",
     "text": [
      "0.2857142857142857\n"
     ]
    }
   ],
   "source": [
    "def calculate_support(x: set, transaction_series: pd.core.series.Series) -> float:\n",
    "    total_number_of_transactions = transaction_series.size\n",
    "    transactions_containing_x = 0\n",
    "    for itemset in transaction_series:\n",
    "        if x.issubset(itemset):\n",
    "            transactions_containing_x += 1\n",
    "    support = transactions_containing_x / total_number_of_transactions\n",
    "    return support\n",
    "\n",
    "print(calculate_support({\"VTI\", \"VXUS\"}, ser))"
   ]
  },
  {
   "cell_type": "markdown",
   "id": "fe3e4ae9",
   "metadata": {
    "slideshow": {
     "slide_type": "subslide"
    }
   },
   "source": [
    "## Confidence 信賴度\n",
    "\n",
    "- 用來評估兩個商品之間的關聯強度，在 $X$ 出現的情況下，$Y$ 出現的機率。\n",
    "- 信賴度愈高，表示前一個商品與後一個商品互為前項（Antecedents）/後項（Consequents）商品。\n",
    "\n",
    "$$\n",
    "\\text{Confidence}(\\{X\\} \\rightarrow \\{Y\\}) = \\frac{\\text{Transactions containing both X and Y}}{\\text{Transactions containing X}}\n",
    "$$"
   ]
  },
  {
   "cell_type": "code",
   "execution_count": 7,
   "id": "a506254d",
   "metadata": {
    "slideshow": {
     "slide_type": "subslide"
    }
   },
   "outputs": [
    {
     "name": "stdout",
     "output_type": "stream",
     "text": [
      "0.5\n"
     ]
    }
   ],
   "source": [
    "transactions_containing_both_vti_vxus = 0\n",
    "transactions_containing_vti = 0\n",
    "for itemset in ser:\n",
    "    compare_set = {\"VTI\", \"VXUS\"}\n",
    "    antecedents_set = {\"VTI\"}\n",
    "    if antecedents_set.issubset(itemset):\n",
    "        transactions_containing_vti += 1\n",
    "    if compare_set.issubset(itemset):\n",
    "        transactions_containing_both_vti_vxus += 1\n",
    "confidence_vti_vxus = transactions_containing_both_vti_vxus / transactions_containing_vti\n",
    "print(confidence_vti_vxus)"
   ]
  },
  {
   "cell_type": "code",
   "execution_count": 8,
   "id": "dc221225",
   "metadata": {
    "slideshow": {
     "slide_type": "subslide"
    }
   },
   "outputs": [
    {
     "name": "stdout",
     "output_type": "stream",
     "text": [
      "0.5\n"
     ]
    }
   ],
   "source": [
    "def calculate_confidence(antecedents_set: set, x: set, transaction_series: pd.core.series.Series) -> float:\n",
    "    transactions_containing_x = 0\n",
    "    transactions_containing_antecedents_set = 0\n",
    "    for itemset in transaction_series:\n",
    "        if antecedents_set.issubset(itemset):\n",
    "            transactions_containing_antecedents_set += 1\n",
    "        if x.issubset(itemset):\n",
    "            transactions_containing_x += 1\n",
    "    confidence = transactions_containing_x / transactions_containing_antecedents_set\n",
    "    return confidence\n",
    "\n",
    "print(calculate_confidence({\"VTI\"}, {\"VTI\", \"VXUS\"}, ser))"
   ]
  },
  {
   "cell_type": "markdown",
   "id": "630e7a88",
   "metadata": {
    "slideshow": {
     "slide_type": "subslide"
    }
   },
   "source": [
    "## Lift 提升度\n",
    "\n",
    "- 在考慮兩個商品單獨出現的頻率之下評估兩個商品之間的關聯強度。\n",
    "- 計算商品組合銷售與單獨銷售的比例，大於 1 的提升度表示強關聯，小於 1 的提升度表示弱關聯，等於 1 的提升度表示無關聯。\n",
    "\n",
    "\\begin{aligned}\n",
    "\\text{Lift}(\\{X\\} \\rightarrow \\{Y\\}) &= \\frac{\\text{Transactions containing both X and Y} \\; / \\; \\text{Transactions containing X}}{\\text{Fraction of transactions containing Y}} \\\\\n",
    "&= \\frac{\\text{Confidence}(\\{X\\} \\rightarrow \\{Y\\})}{\\text{Fraction of transactions containing Y}}\n",
    "\\end{aligned}"
   ]
  },
  {
   "cell_type": "code",
   "execution_count": 9,
   "id": "f45ee8f1",
   "metadata": {
    "slideshow": {
     "slide_type": "subslide"
    }
   },
   "outputs": [
    {
     "name": "stdout",
     "output_type": "stream",
     "text": [
      "1.75\n"
     ]
    }
   ],
   "source": [
    "transactions_containing_vxus = 0\n",
    "for itemset in ser:\n",
    "    consequents_set = {\"VXUS\"}\n",
    "    if consequents_set.issubset(itemset):\n",
    "        transactions_containing_vxus += 1\n",
    "fraction_of_transactions_containing_vxus = transactions_containing_vxus / ser.size\n",
    "lift_vti_vxus = confidence_vti_vxus / fraction_of_transactions_containing_vxus\n",
    "print(lift_vti_vxus)"
   ]
  },
  {
   "cell_type": "code",
   "execution_count": 10,
   "id": "49fc9305",
   "metadata": {
    "slideshow": {
     "slide_type": "subslide"
    }
   },
   "outputs": [
    {
     "name": "stdout",
     "output_type": "stream",
     "text": [
      "1.75\n"
     ]
    }
   ],
   "source": [
    "def calculate_lift(antecedents_set: set, consequents_set: set, x: set, transaction_series: pd.core.series.Series) -> float:\n",
    "    transactions_containing_consequents_set = 0\n",
    "    for itemset in transaction_series:\n",
    "        if consequents_set.issubset(itemset):\n",
    "            transactions_containing_consequents_set += 1\n",
    "    total_number_of_transactions = ser.size\n",
    "    fraction_of_transactions_containing_consequents_set = transactions_containing_consequents_set / total_number_of_transactions\n",
    "    confidence = calculate_confidence({\"VTI\"}, {\"VTI\", \"VXUS\"}, transaction_series)\n",
    "    lift = confidence / fraction_of_transactions_containing_consequents_set\n",
    "    return lift\n",
    "\n",
    "print(calculate_lift({\"VTI\"}, {\"VXUS\"}, {\"VTI\", \"VXUS\"}, ser))"
   ]
  },
  {
   "cell_type": "markdown",
   "id": "712b2e57",
   "metadata": {
    "slideshow": {
     "slide_type": "slide"
    }
   },
   "source": [
    "## 關聯規則的演算法"
   ]
  },
  {
   "cell_type": "markdown",
   "id": "4916ce2f",
   "metadata": {
    "slideshow": {
     "slide_type": "subslide"
    }
   },
   "source": [
    "## 為什麼需要關聯規則的演算法\n",
    "\n",
    "- 關聯規則的可能組數很多\n",
    "    - 單一前後項的規則：{VTI} -> {VXUS}\n",
    "    - 多個前項的規則：{VTI, VGK, VWO} -> {VPL}\n",
    "    - 多個後項的規則：{VTI} -> {VGK, VWO, VPL}\n",
    "- 多數的規則組數是無用的、必須被忽略的。"
   ]
  },
  {
   "cell_type": "code",
   "execution_count": 11,
   "id": "ac83d5d1",
   "metadata": {
    "slideshow": {
     "slide_type": "subslide"
    }
   },
   "outputs": [
    {
     "name": "stdout",
     "output_type": "stream",
     "text": [
      "{'VGK', 'VWO', 'VPL', 'VXUS', 'VT', 'VTI'}\n"
     ]
    }
   ],
   "source": [
    "from itertools import combinations\n",
    "\n",
    "etfs = []\n",
    "for itemset in ser:\n",
    "    for item in itemset:\n",
    "        etfs.append(item)\n",
    "etfs = set(etfs)\n",
    "print(etfs)"
   ]
  },
  {
   "cell_type": "code",
   "execution_count": 12,
   "id": "c4a3a921",
   "metadata": {
    "slideshow": {
     "slide_type": "subslide"
    }
   },
   "outputs": [
    {
     "name": "stdout",
     "output_type": "stream",
     "text": [
      "[('VGK',), ('VWO',), ('VPL',), ('VXUS',), ('VT',), ('VTI',)]\n",
      "[('VGK', 'VWO'), ('VGK', 'VPL'), ('VGK', 'VXUS'), ('VGK', 'VT'), ('VGK', 'VTI'), ('VWO', 'VPL'), ('VWO', 'VXUS'), ('VWO', 'VT'), ('VWO', 'VTI'), ('VPL', 'VXUS'), ('VPL', 'VT'), ('VPL', 'VTI'), ('VXUS', 'VT'), ('VXUS', 'VTI'), ('VT', 'VTI')]\n",
      "[('VGK', 'VWO', 'VPL'), ('VGK', 'VWO', 'VXUS'), ('VGK', 'VWO', 'VT'), ('VGK', 'VWO', 'VTI'), ('VGK', 'VPL', 'VXUS'), ('VGK', 'VPL', 'VT'), ('VGK', 'VPL', 'VTI'), ('VGK', 'VXUS', 'VT'), ('VGK', 'VXUS', 'VTI'), ('VGK', 'VT', 'VTI'), ('VWO', 'VPL', 'VXUS'), ('VWO', 'VPL', 'VT'), ('VWO', 'VPL', 'VTI'), ('VWO', 'VXUS', 'VT'), ('VWO', 'VXUS', 'VTI'), ('VWO', 'VT', 'VTI'), ('VPL', 'VXUS', 'VT'), ('VPL', 'VXUS', 'VTI'), ('VPL', 'VT', 'VTI'), ('VXUS', 'VT', 'VTI')]\n",
      "[('VGK', 'VWO', 'VPL', 'VXUS'), ('VGK', 'VWO', 'VPL', 'VT'), ('VGK', 'VWO', 'VPL', 'VTI'), ('VGK', 'VWO', 'VXUS', 'VT'), ('VGK', 'VWO', 'VXUS', 'VTI'), ('VGK', 'VWO', 'VT', 'VTI'), ('VGK', 'VPL', 'VXUS', 'VT'), ('VGK', 'VPL', 'VXUS', 'VTI'), ('VGK', 'VPL', 'VT', 'VTI'), ('VGK', 'VXUS', 'VT', 'VTI'), ('VWO', 'VPL', 'VXUS', 'VT'), ('VWO', 'VPL', 'VXUS', 'VTI'), ('VWO', 'VPL', 'VT', 'VTI'), ('VWO', 'VXUS', 'VT', 'VTI'), ('VPL', 'VXUS', 'VT', 'VTI')]\n",
      "[('VGK', 'VWO', 'VPL', 'VXUS', 'VT'), ('VGK', 'VWO', 'VPL', 'VXUS', 'VTI'), ('VGK', 'VWO', 'VPL', 'VT', 'VTI'), ('VGK', 'VWO', 'VXUS', 'VT', 'VTI'), ('VGK', 'VPL', 'VXUS', 'VT', 'VTI'), ('VWO', 'VPL', 'VXUS', 'VT', 'VTI')]\n",
      "[('VGK', 'VWO', 'VPL', 'VXUS', 'VT', 'VTI')]\n"
     ]
    }
   ],
   "source": [
    "print(list(combinations(etfs, 1)))\n",
    "print(list(combinations(etfs, 2)))\n",
    "print(list(combinations(etfs, 3)))\n",
    "print(list(combinations(etfs, 4)))\n",
    "print(list(combinations(etfs, 5)))\n",
    "print(list(combinations(etfs, 6)))"
   ]
  },
  {
   "cell_type": "markdown",
   "id": "8f9f7615",
   "metadata": {
    "slideshow": {
     "slide_type": "subslide"
    }
   },
   "source": [
    "## 常用來探索關聯規則的演算法\n",
    "\n",
    "- Apriori 演算法。\n",
    "- FP-Growth(Frequent Pattern Growth) 演算法。\n",
    "- ECLAT(Equivalence Class Clustering and bottom-up Lattice Traversal) 演算法。"
   ]
  },
  {
   "cell_type": "markdown",
   "id": "f5954bf4",
   "metadata": {
    "slideshow": {
     "slide_type": "subslide"
    }
   },
   "source": [
    "## Apriori 演算法\n",
    "\n",
    "- 家喻戶曉的關聯規則演算法。\n",
    "- 首先辨識在銷售資料中頻繁出現的商品，再依據頻繁出現的商品建立關聯規則。\n",
    "- 採用 Bottom-up 的演算法，從單一商品推算至商品組合。"
   ]
  },
  {
   "cell_type": "markdown",
   "id": "753f4887",
   "metadata": {
    "slideshow": {
     "slide_type": "subslide"
    }
   },
   "source": [
    "## FP-Growth(Frequent Pattern Growth) 演算法\n",
    "\n",
    "- 採用樹狀結構演算法，建立 FP-tree，再透過 FP-tree 生成關聯規則。\n",
    "- 可以視為一種演算速度更快、更適合在大型資料集運用的 Apriori 演算法。"
   ]
  },
  {
   "cell_type": "markdown",
   "id": "4a7989c9",
   "metadata": {
    "slideshow": {
     "slide_type": "subslide"
    }
   },
   "source": [
    "## ECLAT(Equivalence Class Clustering and bottom-up Lattice Traversal) 演算法\n",
    "\n",
    "- Apriori 演算法的變化型態，改採 Top-down 的演算法，而非 Bottom-up\n",
    "- 建立格狀結構生成關聯規則。\n",
    "- 同樣可以視為一種演算速度更快、更適合在大型資料集運用的 Apriori 演算法。"
   ]
  },
  {
   "cell_type": "markdown",
   "id": "8217d77c",
   "metadata": {
    "slideshow": {
     "slide_type": "subslide"
    }
   },
   "source": [
    "## 手動走一遍 Apriori 演算法\n",
    "\n",
    "1. 計算單一商品的支持度。\n",
    "2. 設定最小支持度門檻。\n",
    "3. 將未滿最小支持度門檻的單一商品剔除後，再計算兩項商品組合的支持度。\n",
    "4. 將未滿最小支持度門檻的兩項商品組合剔除後，再計算三項商品組合的支持度。\n",
    "5. 以此類推，直到 n 項商品組合的支持度未滿最小支持度門檻為止。\n",
    "6. 計算 n 項商品各種組合的信賴度。"
   ]
  },
  {
   "cell_type": "markdown",
   "id": "8f142a7b",
   "metadata": {
    "slideshow": {
     "slide_type": "subslide"
    }
   },
   "source": [
    "## 計算單一商品的支持度"
   ]
  },
  {
   "cell_type": "code",
   "execution_count": 13,
   "id": "957a9cc3",
   "metadata": {},
   "outputs": [
    {
     "name": "stdout",
     "output_type": "stream",
     "text": [
      "{'VGK': 0.2857142857142857, 'VWO': 0.2857142857142857, 'VPL': 0.2857142857142857, 'VXUS': 0.2857142857142857, 'VT': 0.42857142857142855, 'VTI': 0.5714285714285714}\n"
     ]
    }
   ],
   "source": [
    "supports_n1 = {etf: calculate_support({etf}, ser) for etf in etfs}\n",
    "print(supports_n1)"
   ]
  },
  {
   "cell_type": "markdown",
   "id": "cc3f64a7",
   "metadata": {
    "slideshow": {
     "slide_type": "subslide"
    }
   },
   "source": [
    "## 設定最小支持度門檻"
   ]
  },
  {
   "cell_type": "code",
   "execution_count": 14,
   "id": "0fab2cdb",
   "metadata": {},
   "outputs": [],
   "source": [
    "min_support_threshold = 0.2"
   ]
  },
  {
   "cell_type": "markdown",
   "id": "fcb17551",
   "metadata": {
    "slideshow": {
     "slide_type": "subslide"
    }
   },
   "source": [
    "## 將未滿最小支持度門檻的單一商品剔除後，再計算兩項商品組合的支持度"
   ]
  },
  {
   "cell_type": "code",
   "execution_count": 15,
   "id": "fb2d27c2",
   "metadata": {},
   "outputs": [
    {
     "name": "stdout",
     "output_type": "stream",
     "text": [
      "{'VGK': 0.2857142857142857, 'VWO': 0.2857142857142857, 'VPL': 0.2857142857142857, 'VXUS': 0.2857142857142857, 'VT': 0.42857142857142855, 'VTI': 0.5714285714285714}\n",
      "[('VGK', 'VWO'), ('VGK', 'VWO'), ('VGK', 'VPL'), ('VGK', 'VPL'), ('VGK', 'VXUS'), ('VGK', 'VXUS'), ('VGK', 'VT'), ('VGK', 'VT'), ('VGK', 'VTI'), ('VGK', 'VTI'), ('VWO', 'VPL'), ('VWO', 'VPL'), ('VWO', 'VXUS'), ('VWO', 'VXUS'), ('VWO', 'VT'), ('VWO', 'VT'), ('VWO', 'VTI'), ('VWO', 'VTI'), ('VPL', 'VXUS'), ('VPL', 'VXUS'), ('VPL', 'VT'), ('VPL', 'VT'), ('VPL', 'VTI'), ('VPL', 'VTI'), ('VXUS', 'VT'), ('VXUS', 'VT'), ('VXUS', 'VTI'), ('VXUS', 'VTI'), ('VT', 'VTI'), ('VT', 'VTI')]\n"
     ]
    }
   ],
   "source": [
    "removed_supports_n1 = {k: v for k, v in supports_n1.items() if v > min_support_threshold}\n",
    "print(removed_supports_n1)\n",
    "combinations_etfs_n2 = []\n",
    "for combi in combinations(etfs, 2):\n",
    "    for k in removed_supports_n1.keys():\n",
    "        set_combi = set(combi)\n",
    "        set_k = {k}\n",
    "        if set_k.issubset(set_combi):\n",
    "            combinations_etfs_n2.append(combi)\n",
    "print(combinations_etfs_n2)"
   ]
  },
  {
   "cell_type": "code",
   "execution_count": 16,
   "id": "79700a89",
   "metadata": {},
   "outputs": [
    {
     "name": "stdout",
     "output_type": "stream",
     "text": [
      "{('VGK', 'VWO'): 0.2857142857142857, ('VGK', 'VPL'): 0.2857142857142857, ('VGK', 'VXUS'): 0.0, ('VGK', 'VT'): 0.0, ('VGK', 'VTI'): 0.2857142857142857, ('VWO', 'VPL'): 0.2857142857142857, ('VWO', 'VXUS'): 0.0, ('VWO', 'VT'): 0.0, ('VWO', 'VTI'): 0.2857142857142857, ('VPL', 'VXUS'): 0.0, ('VPL', 'VT'): 0.0, ('VPL', 'VTI'): 0.2857142857142857, ('VXUS', 'VT'): 0.0, ('VXUS', 'VTI'): 0.2857142857142857, ('VT', 'VTI'): 0.0}\n"
     ]
    }
   ],
   "source": [
    "supports_n2 = {combi: calculate_support(set(combi), ser) for combi in combinations_etfs_n2}\n",
    "print(supports_n2)"
   ]
  },
  {
   "cell_type": "markdown",
   "id": "a6a2c22d",
   "metadata": {
    "slideshow": {
     "slide_type": "subslide"
    }
   },
   "source": [
    "## 將未滿最小支持度門檻的兩項商品組合剔除後，再計算三項商品組合的支持度"
   ]
  },
  {
   "cell_type": "code",
   "execution_count": 17,
   "id": "437e6609",
   "metadata": {},
   "outputs": [
    {
     "name": "stdout",
     "output_type": "stream",
     "text": [
      "{('VGK', 'VWO'): 0.2857142857142857, ('VGK', 'VPL'): 0.2857142857142857, ('VGK', 'VTI'): 0.2857142857142857, ('VWO', 'VPL'): 0.2857142857142857, ('VWO', 'VTI'): 0.2857142857142857, ('VPL', 'VTI'): 0.2857142857142857, ('VXUS', 'VTI'): 0.2857142857142857}\n",
      "[('VGK', 'VWO', 'VPL'), ('VGK', 'VWO', 'VPL'), ('VGK', 'VWO', 'VPL'), ('VGK', 'VWO', 'VXUS'), ('VGK', 'VWO', 'VT'), ('VGK', 'VWO', 'VTI'), ('VGK', 'VWO', 'VTI'), ('VGK', 'VWO', 'VTI'), ('VGK', 'VPL', 'VXUS'), ('VGK', 'VPL', 'VT'), ('VGK', 'VPL', 'VTI'), ('VGK', 'VPL', 'VTI'), ('VGK', 'VPL', 'VTI'), ('VGK', 'VXUS', 'VTI'), ('VGK', 'VXUS', 'VTI'), ('VGK', 'VT', 'VTI'), ('VWO', 'VPL', 'VXUS'), ('VWO', 'VPL', 'VT'), ('VWO', 'VPL', 'VTI'), ('VWO', 'VPL', 'VTI'), ('VWO', 'VPL', 'VTI'), ('VWO', 'VXUS', 'VTI'), ('VWO', 'VXUS', 'VTI'), ('VWO', 'VT', 'VTI'), ('VPL', 'VXUS', 'VTI'), ('VPL', 'VXUS', 'VTI'), ('VPL', 'VT', 'VTI'), ('VXUS', 'VT', 'VTI')]\n"
     ]
    }
   ],
   "source": [
    "removed_supports_n2 = {k: v for k, v in supports_n2.items() if v > min_support_threshold}\n",
    "print(removed_supports_n2)\n",
    "combinations_etfs_n3 = []\n",
    "for combi in combinations(etfs, 3):\n",
    "    for k in removed_supports_n2.keys():\n",
    "        set_combi = set(combi)\n",
    "        set_k = set(k)\n",
    "        if set_k.issubset(set_combi):\n",
    "            combinations_etfs_n3.append(combi)\n",
    "print(combinations_etfs_n3)"
   ]
  },
  {
   "cell_type": "code",
   "execution_count": 18,
   "id": "c06b92ff",
   "metadata": {},
   "outputs": [
    {
     "name": "stdout",
     "output_type": "stream",
     "text": [
      "{('VGK', 'VWO', 'VPL'): 0.2857142857142857, ('VGK', 'VWO', 'VXUS'): 0.0, ('VGK', 'VWO', 'VT'): 0.0, ('VGK', 'VWO', 'VTI'): 0.2857142857142857, ('VGK', 'VPL', 'VXUS'): 0.0, ('VGK', 'VPL', 'VT'): 0.0, ('VGK', 'VPL', 'VTI'): 0.2857142857142857, ('VGK', 'VXUS', 'VTI'): 0.0, ('VGK', 'VT', 'VTI'): 0.0, ('VWO', 'VPL', 'VXUS'): 0.0, ('VWO', 'VPL', 'VT'): 0.0, ('VWO', 'VPL', 'VTI'): 0.2857142857142857, ('VWO', 'VXUS', 'VTI'): 0.0, ('VWO', 'VT', 'VTI'): 0.0, ('VPL', 'VXUS', 'VTI'): 0.0, ('VPL', 'VT', 'VTI'): 0.0, ('VXUS', 'VT', 'VTI'): 0.0}\n"
     ]
    }
   ],
   "source": [
    "supports_n3 = {combi: calculate_support(set(combi), ser) for combi in combinations_etfs_n3}\n",
    "print(supports_n3)"
   ]
  },
  {
   "cell_type": "markdown",
   "id": "bb43798c",
   "metadata": {
    "slideshow": {
     "slide_type": "subslide"
    }
   },
   "source": [
    "## 將未滿最小支持度門檻的三項商品組合剔除後，再計算四項商品組合的支持度"
   ]
  },
  {
   "cell_type": "code",
   "execution_count": 19,
   "id": "1cfcab1e",
   "metadata": {},
   "outputs": [
    {
     "name": "stdout",
     "output_type": "stream",
     "text": [
      "{('VGK', 'VWO', 'VPL'): 0.2857142857142857, ('VGK', 'VWO', 'VTI'): 0.2857142857142857, ('VGK', 'VPL', 'VTI'): 0.2857142857142857, ('VWO', 'VPL', 'VTI'): 0.2857142857142857}\n",
      "[('VGK', 'VWO', 'VPL', 'VXUS'), ('VGK', 'VWO', 'VPL', 'VT'), ('VGK', 'VWO', 'VPL', 'VTI'), ('VGK', 'VWO', 'VPL', 'VTI'), ('VGK', 'VWO', 'VPL', 'VTI'), ('VGK', 'VWO', 'VPL', 'VTI'), ('VGK', 'VWO', 'VXUS', 'VTI'), ('VGK', 'VWO', 'VT', 'VTI'), ('VGK', 'VPL', 'VXUS', 'VTI'), ('VGK', 'VPL', 'VT', 'VTI'), ('VWO', 'VPL', 'VXUS', 'VTI'), ('VWO', 'VPL', 'VT', 'VTI')]\n"
     ]
    }
   ],
   "source": [
    "removed_supports_n3 = {k: v for k, v in supports_n3.items() if v > min_support_threshold}\n",
    "print(removed_supports_n3)\n",
    "combinations_etfs_n4 = []\n",
    "for combi in combinations(etfs, 4):\n",
    "    for k in removed_supports_n3.keys():\n",
    "        set_combi = set(combi)\n",
    "        set_k = set(k)\n",
    "        if set_k.issubset(set_combi):\n",
    "            combinations_etfs_n4.append(combi)\n",
    "print(combinations_etfs_n4)"
   ]
  },
  {
   "cell_type": "code",
   "execution_count": 20,
   "id": "f3030eda",
   "metadata": {},
   "outputs": [
    {
     "name": "stdout",
     "output_type": "stream",
     "text": [
      "{('VGK', 'VWO', 'VPL', 'VXUS'): 0.0, ('VGK', 'VWO', 'VPL', 'VT'): 0.0, ('VGK', 'VWO', 'VPL', 'VTI'): 0.2857142857142857, ('VGK', 'VWO', 'VXUS', 'VTI'): 0.0, ('VGK', 'VWO', 'VT', 'VTI'): 0.0, ('VGK', 'VPL', 'VXUS', 'VTI'): 0.0, ('VGK', 'VPL', 'VT', 'VTI'): 0.0, ('VWO', 'VPL', 'VXUS', 'VTI'): 0.0, ('VWO', 'VPL', 'VT', 'VTI'): 0.0}\n"
     ]
    }
   ],
   "source": [
    "supports_n4 = {combi: calculate_support(set(combi), ser) for combi in combinations_etfs_n4}\n",
    "print(supports_n4)"
   ]
  },
  {
   "cell_type": "markdown",
   "id": "7bfb7a36",
   "metadata": {
    "slideshow": {
     "slide_type": "subslide"
    }
   },
   "source": [
    "## 將未滿最小支持度門檻的三項商品組合剔除後，再計算四項商品組合的支持度"
   ]
  },
  {
   "cell_type": "code",
   "execution_count": 21,
   "id": "11e5d3b0",
   "metadata": {},
   "outputs": [
    {
     "name": "stdout",
     "output_type": "stream",
     "text": [
      "[('VGK', 'VWO', 'VPL', 'VXUS', 'VTI'), ('VGK', 'VWO', 'VPL', 'VT', 'VTI')]\n"
     ]
    }
   ],
   "source": [
    "removed_supports_n4 = {k: v for k, v in supports_n4.items() if v > min_support_threshold}\n",
    "combinations_etfs_n5 = []\n",
    "for combi in combinations(etfs, 5):\n",
    "    for k in removed_supports_n4.keys():\n",
    "        set_combi = set(combi)\n",
    "        set_k = set(k)\n",
    "        if set_k.issubset(set_combi):\n",
    "            combinations_etfs_n5.append(combi)\n",
    "print(combinations_etfs_n5)"
   ]
  },
  {
   "cell_type": "markdown",
   "id": "e5998423",
   "metadata": {
    "slideshow": {
     "slide_type": "subslide"
    }
   },
   "source": [
    "## 直到 n 項商品組合的支持度未滿最小支持度門檻為止"
   ]
  },
  {
   "cell_type": "code",
   "execution_count": 22,
   "id": "52e51ad3",
   "metadata": {},
   "outputs": [
    {
     "name": "stdout",
     "output_type": "stream",
     "text": [
      "{('VGK', 'VWO', 'VPL', 'VXUS', 'VTI'): 0.0, ('VGK', 'VWO', 'VPL', 'VT', 'VTI'): 0.0}\n"
     ]
    }
   ],
   "source": [
    "supports_n5 = {combi: calculate_support(set(combi), ser) for combi in combinations_etfs_n5}\n",
    "print(supports_n5)"
   ]
  },
  {
   "cell_type": "markdown",
   "id": "e0a1c1b8",
   "metadata": {
    "slideshow": {
     "slide_type": "subslide"
    }
   },
   "source": [
    "## 計算 n-1 項商品各種組合的信賴度"
   ]
  },
  {
   "cell_type": "code",
   "execution_count": 23,
   "id": "36070b40",
   "metadata": {},
   "outputs": [
    {
     "name": "stdout",
     "output_type": "stream",
     "text": [
      "{'VPL', 'VGK', 'VTI', 'VWO'}\n"
     ]
    }
   ],
   "source": [
    "final_etf_set = set(list(removed_supports_n4.keys())[0])\n",
    "print(final_etf_set)"
   ]
  },
  {
   "cell_type": "code",
   "execution_count": 24,
   "id": "fed147a5",
   "metadata": {
    "slideshow": {
     "slide_type": "subslide"
    }
   },
   "outputs": [
    {
     "name": "stdout",
     "output_type": "stream",
     "text": [
      "0.5\n",
      "0.5\n"
     ]
    }
   ],
   "source": [
    "print(calculate_confidence({\"VTI\"}, {\"VGK\"}, ser))\n",
    "print(calculate_confidence({\"VTI\"}, {\"VXUS\"}, ser))"
   ]
  },
  {
   "cell_type": "code",
   "execution_count": 25,
   "id": "7227ef5d",
   "metadata": {
    "slideshow": {
     "slide_type": "-"
    }
   },
   "outputs": [
    {
     "name": "stdout",
     "output_type": "stream",
     "text": [
      "1.0\n"
     ]
    }
   ],
   "source": [
    "print(calculate_confidence({\"VTI\", \"VGK\"}, {\"VWO\", \"VPL\"}, ser))"
   ]
  },
  {
   "cell_type": "code",
   "execution_count": 26,
   "id": "ee4eef6b",
   "metadata": {},
   "outputs": [
    {
     "name": "stdout",
     "output_type": "stream",
     "text": [
      "1.0\n"
     ]
    }
   ],
   "source": [
    "print(calculate_confidence({\"VTI\", \"VGK\", \"VWO\"}, {\"VPL\"}, ser))"
   ]
  },
  {
   "cell_type": "markdown",
   "id": "bb5dd2d5",
   "metadata": {
    "slideshow": {
     "slide_type": "slide"
    }
   },
   "source": [
    "## 關聯規則模組"
   ]
  },
  {
   "cell_type": "markdown",
   "id": "0bcfef98",
   "metadata": {
    "slideshow": {
     "slide_type": "subslide"
    }
   },
   "source": [
    "## 常見的 Python 關聯規則模組\n",
    "\n",
    "- `apyori`: <https://github.com/ymoch/apyori>\n",
    "- `mlxtend`: <https://rasbt.github.io/mlxtend>\n",
    "- `pycaret`: <https://github.com/pycaret/pycaret>"
   ]
  },
  {
   "cell_type": "markdown",
   "id": "595c206a",
   "metadata": {
    "slideshow": {
     "slide_type": "subslide"
    }
   },
   "source": [
    "## 載入交易資料"
   ]
  },
  {
   "cell_type": "code",
   "execution_count": 27,
   "id": "bd05eadc",
   "metadata": {
    "slideshow": {
     "slide_type": "-"
    }
   },
   "outputs": [
    {
     "data": {
      "text/html": [
       "<div>\n",
       "<style scoped>\n",
       "    .dataframe tbody tr th:only-of-type {\n",
       "        vertical-align: middle;\n",
       "    }\n",
       "\n",
       "    .dataframe tbody tr th {\n",
       "        vertical-align: top;\n",
       "    }\n",
       "\n",
       "    .dataframe thead th {\n",
       "        text-align: right;\n",
       "    }\n",
       "</style>\n",
       "<table border=\"1\" class=\"dataframe\">\n",
       "  <thead>\n",
       "    <tr style=\"text-align: right;\">\n",
       "      <th></th>\n",
       "      <th>InvoiceNo</th>\n",
       "      <th>StockCode</th>\n",
       "      <th>Description</th>\n",
       "      <th>Quantity</th>\n",
       "      <th>InvoiceDate</th>\n",
       "      <th>UnitPrice</th>\n",
       "      <th>CustomerID</th>\n",
       "    </tr>\n",
       "  </thead>\n",
       "  <tbody>\n",
       "    <tr>\n",
       "      <th>0</th>\n",
       "      <td>536370</td>\n",
       "      <td>22728</td>\n",
       "      <td>VGK</td>\n",
       "      <td>24</td>\n",
       "      <td>12/1/2010 8:45</td>\n",
       "      <td>3.75</td>\n",
       "      <td>12583</td>\n",
       "    </tr>\n",
       "    <tr>\n",
       "      <th>1</th>\n",
       "      <td>536370</td>\n",
       "      <td>22727</td>\n",
       "      <td>VPL</td>\n",
       "      <td>24</td>\n",
       "      <td>12/1/2010 8:45</td>\n",
       "      <td>3.75</td>\n",
       "      <td>12583</td>\n",
       "    </tr>\n",
       "    <tr>\n",
       "      <th>2</th>\n",
       "      <td>536370</td>\n",
       "      <td>22726</td>\n",
       "      <td>VWO</td>\n",
       "      <td>12</td>\n",
       "      <td>12/1/2010 8:45</td>\n",
       "      <td>3.75</td>\n",
       "      <td>12583</td>\n",
       "    </tr>\n",
       "    <tr>\n",
       "      <th>3</th>\n",
       "      <td>536370</td>\n",
       "      <td>22629</td>\n",
       "      <td>VT</td>\n",
       "      <td>24</td>\n",
       "      <td>12/1/2010 8:45</td>\n",
       "      <td>1.95</td>\n",
       "      <td>12583</td>\n",
       "    </tr>\n",
       "    <tr>\n",
       "      <th>4</th>\n",
       "      <td>537065</td>\n",
       "      <td>22727</td>\n",
       "      <td>VPL</td>\n",
       "      <td>4</td>\n",
       "      <td>12/5/2010 11:57</td>\n",
       "      <td>3.75</td>\n",
       "      <td>12567</td>\n",
       "    </tr>\n",
       "  </tbody>\n",
       "</table>\n",
       "</div>"
      ],
      "text/plain": [
       "  InvoiceNo  StockCode Description  Quantity      InvoiceDate  UnitPrice  \\\n",
       "0    536370      22728         VGK        24   12/1/2010 8:45       3.75   \n",
       "1    536370      22727         VPL        24   12/1/2010 8:45       3.75   \n",
       "2    536370      22726         VWO        12   12/1/2010 8:45       3.75   \n",
       "3    536370      22629          VT        24   12/1/2010 8:45       1.95   \n",
       "4    537065      22727         VPL         4  12/5/2010 11:57       3.75   \n",
       "\n",
       "   CustomerID  \n",
       "0       12583  \n",
       "1       12583  \n",
       "2       12583  \n",
       "3       12583  \n",
       "4       12567  "
      ]
     },
     "execution_count": 27,
     "metadata": {},
     "output_type": "execute_result"
    }
   ],
   "source": [
    "df = pd.read_csv(\"https://raw.githubusercontent.com/datainpoint/classroom-tabf-2023/main/etf_retail.csv\")\n",
    "df.head()"
   ]
  },
  {
   "cell_type": "markdown",
   "id": "24b1bd78",
   "metadata": {
    "slideshow": {
     "slide_type": "subslide"
    }
   },
   "source": [
    "## 預處理交易資料"
   ]
  },
  {
   "cell_type": "code",
   "execution_count": 28,
   "id": "1db9b91f",
   "metadata": {
    "slideshow": {
     "slide_type": "subslide"
    }
   },
   "outputs": [
    {
     "data": {
      "text/html": [
       "<div>\n",
       "<style scoped>\n",
       "    .dataframe tbody tr th:only-of-type {\n",
       "        vertical-align: middle;\n",
       "    }\n",
       "\n",
       "    .dataframe tbody tr th {\n",
       "        vertical-align: top;\n",
       "    }\n",
       "\n",
       "    .dataframe thead th {\n",
       "        text-align: right;\n",
       "    }\n",
       "</style>\n",
       "<table border=\"1\" class=\"dataframe\">\n",
       "  <thead>\n",
       "    <tr style=\"text-align: right;\">\n",
       "      <th>Description</th>\n",
       "      <th>VGK</th>\n",
       "      <th>VPL</th>\n",
       "      <th>VT</th>\n",
       "      <th>VTI</th>\n",
       "      <th>VWO</th>\n",
       "      <th>VXUS</th>\n",
       "    </tr>\n",
       "    <tr>\n",
       "      <th>InvoiceNo</th>\n",
       "      <th></th>\n",
       "      <th></th>\n",
       "      <th></th>\n",
       "      <th></th>\n",
       "      <th></th>\n",
       "      <th></th>\n",
       "    </tr>\n",
       "  </thead>\n",
       "  <tbody>\n",
       "    <tr>\n",
       "      <th>536370</th>\n",
       "      <td>True</td>\n",
       "      <td>True</td>\n",
       "      <td>True</td>\n",
       "      <td>False</td>\n",
       "      <td>True</td>\n",
       "      <td>False</td>\n",
       "    </tr>\n",
       "    <tr>\n",
       "      <th>537065</th>\n",
       "      <td>True</td>\n",
       "      <td>True</td>\n",
       "      <td>False</td>\n",
       "      <td>False</td>\n",
       "      <td>True</td>\n",
       "      <td>False</td>\n",
       "    </tr>\n",
       "    <tr>\n",
       "      <th>538008</th>\n",
       "      <td>False</td>\n",
       "      <td>False</td>\n",
       "      <td>True</td>\n",
       "      <td>False</td>\n",
       "      <td>False</td>\n",
       "      <td>False</td>\n",
       "    </tr>\n",
       "    <tr>\n",
       "      <th>540455</th>\n",
       "      <td>True</td>\n",
       "      <td>True</td>\n",
       "      <td>False</td>\n",
       "      <td>False</td>\n",
       "      <td>True</td>\n",
       "      <td>False</td>\n",
       "    </tr>\n",
       "    <tr>\n",
       "      <th>540642</th>\n",
       "      <td>True</td>\n",
       "      <td>True</td>\n",
       "      <td>True</td>\n",
       "      <td>False</td>\n",
       "      <td>True</td>\n",
       "      <td>False</td>\n",
       "    </tr>\n",
       "    <tr>\n",
       "      <th>...</th>\n",
       "      <td>...</td>\n",
       "      <td>...</td>\n",
       "      <td>...</td>\n",
       "      <td>...</td>\n",
       "      <td>...</td>\n",
       "      <td>...</td>\n",
       "    </tr>\n",
       "    <tr>\n",
       "      <th>580756</th>\n",
       "      <td>False</td>\n",
       "      <td>False</td>\n",
       "      <td>False</td>\n",
       "      <td>True</td>\n",
       "      <td>False</td>\n",
       "      <td>True</td>\n",
       "    </tr>\n",
       "    <tr>\n",
       "      <th>581001</th>\n",
       "      <td>True</td>\n",
       "      <td>False</td>\n",
       "      <td>False</td>\n",
       "      <td>False</td>\n",
       "      <td>True</td>\n",
       "      <td>False</td>\n",
       "    </tr>\n",
       "    <tr>\n",
       "      <th>581587</th>\n",
       "      <td>True</td>\n",
       "      <td>True</td>\n",
       "      <td>True</td>\n",
       "      <td>True</td>\n",
       "      <td>True</td>\n",
       "      <td>True</td>\n",
       "    </tr>\n",
       "    <tr>\n",
       "      <th>C537893</th>\n",
       "      <td>False</td>\n",
       "      <td>False</td>\n",
       "      <td>True</td>\n",
       "      <td>False</td>\n",
       "      <td>False</td>\n",
       "      <td>False</td>\n",
       "    </tr>\n",
       "    <tr>\n",
       "      <th>C574095</th>\n",
       "      <td>False</td>\n",
       "      <td>False</td>\n",
       "      <td>False</td>\n",
       "      <td>False</td>\n",
       "      <td>True</td>\n",
       "      <td>True</td>\n",
       "    </tr>\n",
       "  </tbody>\n",
       "</table>\n",
       "<p>114 rows × 6 columns</p>\n",
       "</div>"
      ],
      "text/plain": [
       "Description    VGK    VPL     VT    VTI    VWO   VXUS\n",
       "InvoiceNo                                            \n",
       "536370        True   True   True  False   True  False\n",
       "537065        True   True  False  False   True  False\n",
       "538008       False  False   True  False  False  False\n",
       "540455        True   True  False  False   True  False\n",
       "540642        True   True   True  False   True  False\n",
       "...            ...    ...    ...    ...    ...    ...\n",
       "580756       False  False  False   True  False   True\n",
       "581001        True  False  False  False   True  False\n",
       "581587        True   True   True   True   True   True\n",
       "C537893      False  False   True  False  False  False\n",
       "C574095      False  False  False  False   True   True\n",
       "\n",
       "[114 rows x 6 columns]"
      ]
     },
     "execution_count": 28,
     "metadata": {},
     "output_type": "execute_result"
    }
   ],
   "source": [
    "def return_true(x):\n",
    "    return True\n",
    "pivoted_df = pd.pivot_table(df, values='Quantity', index=['InvoiceNo'],\n",
    "                            columns=['Description'], fill_value=False, aggfunc=return_true)\n",
    "pivoted_df"
   ]
  },
  {
   "cell_type": "markdown",
   "id": "47bd9999",
   "metadata": {
    "slideshow": {
     "slide_type": "subslide"
    }
   },
   "source": [
    "## 使用 Apriori 演算法"
   ]
  },
  {
   "cell_type": "code",
   "execution_count": 29,
   "id": "84758de8",
   "metadata": {},
   "outputs": [
    {
     "data": {
      "text/html": [
       "<div>\n",
       "<style scoped>\n",
       "    .dataframe tbody tr th:only-of-type {\n",
       "        vertical-align: middle;\n",
       "    }\n",
       "\n",
       "    .dataframe tbody tr th {\n",
       "        vertical-align: top;\n",
       "    }\n",
       "\n",
       "    .dataframe thead th {\n",
       "        text-align: right;\n",
       "    }\n",
       "</style>\n",
       "<table border=\"1\" class=\"dataframe\">\n",
       "  <thead>\n",
       "    <tr style=\"text-align: right;\">\n",
       "      <th></th>\n",
       "      <th>support</th>\n",
       "      <th>itemsets</th>\n",
       "    </tr>\n",
       "  </thead>\n",
       "  <tbody>\n",
       "    <tr>\n",
       "      <th>0</th>\n",
       "      <td>0.350877</td>\n",
       "      <td>(VGK)</td>\n",
       "    </tr>\n",
       "    <tr>\n",
       "      <th>1</th>\n",
       "      <td>0.324561</td>\n",
       "      <td>(VPL)</td>\n",
       "    </tr>\n",
       "    <tr>\n",
       "      <th>2</th>\n",
       "      <td>0.535088</td>\n",
       "      <td>(VT)</td>\n",
       "    </tr>\n",
       "    <tr>\n",
       "      <th>3</th>\n",
       "      <td>0.236842</td>\n",
       "      <td>(VTI)</td>\n",
       "    </tr>\n",
       "    <tr>\n",
       "      <th>4</th>\n",
       "      <td>0.342105</td>\n",
       "      <td>(VWO)</td>\n",
       "    </tr>\n",
       "    <tr>\n",
       "      <th>5</th>\n",
       "      <td>0.254386</td>\n",
       "      <td>(VXUS)</td>\n",
       "    </tr>\n",
       "    <tr>\n",
       "      <th>6</th>\n",
       "      <td>0.254386</td>\n",
       "      <td>(VGK, VPL)</td>\n",
       "    </tr>\n",
       "    <tr>\n",
       "      <th>7</th>\n",
       "      <td>0.114035</td>\n",
       "      <td>(VGK, VT)</td>\n",
       "    </tr>\n",
       "    <tr>\n",
       "      <th>8</th>\n",
       "      <td>0.254386</td>\n",
       "      <td>(VGK, VWO)</td>\n",
       "    </tr>\n",
       "    <tr>\n",
       "      <th>9</th>\n",
       "      <td>0.114035</td>\n",
       "      <td>(VT, VPL)</td>\n",
       "    </tr>\n",
       "    <tr>\n",
       "      <th>10</th>\n",
       "      <td>0.271930</td>\n",
       "      <td>(VWO, VPL)</td>\n",
       "    </tr>\n",
       "    <tr>\n",
       "      <th>11</th>\n",
       "      <td>0.105263</td>\n",
       "      <td>(VWO, VT)</td>\n",
       "    </tr>\n",
       "    <tr>\n",
       "      <th>12</th>\n",
       "      <td>0.219298</td>\n",
       "      <td>(VTI, VXUS)</td>\n",
       "    </tr>\n",
       "    <tr>\n",
       "      <th>13</th>\n",
       "      <td>0.105263</td>\n",
       "      <td>(VT, VGK, VPL)</td>\n",
       "    </tr>\n",
       "    <tr>\n",
       "      <th>14</th>\n",
       "      <td>0.219298</td>\n",
       "      <td>(VGK, VWO, VPL)</td>\n",
       "    </tr>\n",
       "  </tbody>\n",
       "</table>\n",
       "</div>"
      ],
      "text/plain": [
       "     support         itemsets\n",
       "0   0.350877            (VGK)\n",
       "1   0.324561            (VPL)\n",
       "2   0.535088             (VT)\n",
       "3   0.236842            (VTI)\n",
       "4   0.342105            (VWO)\n",
       "5   0.254386           (VXUS)\n",
       "6   0.254386       (VGK, VPL)\n",
       "7   0.114035        (VGK, VT)\n",
       "8   0.254386       (VGK, VWO)\n",
       "9   0.114035        (VT, VPL)\n",
       "10  0.271930       (VWO, VPL)\n",
       "11  0.105263        (VWO, VT)\n",
       "12  0.219298      (VTI, VXUS)\n",
       "13  0.105263   (VT, VGK, VPL)\n",
       "14  0.219298  (VGK, VWO, VPL)"
      ]
     },
     "execution_count": 29,
     "metadata": {},
     "output_type": "execute_result"
    }
   ],
   "source": [
    "from mlxtend.frequent_patterns import apriori\n",
    "\n",
    "frequent_itemsets = apriori(pivoted_df, min_support=0.1, use_colnames=True)\n",
    "frequent_itemsets"
   ]
  },
  {
   "cell_type": "markdown",
   "id": "b2d2bd96",
   "metadata": {
    "slideshow": {
     "slide_type": "subslide"
    }
   },
   "source": [
    "## 建立關聯規則模型"
   ]
  },
  {
   "cell_type": "code",
   "execution_count": 30,
   "id": "7a0d9f66",
   "metadata": {
    "slideshow": {
     "slide_type": "subslide"
    }
   },
   "outputs": [
    {
     "data": {
      "text/html": [
       "<div>\n",
       "<style scoped>\n",
       "    .dataframe tbody tr th:only-of-type {\n",
       "        vertical-align: middle;\n",
       "    }\n",
       "\n",
       "    .dataframe tbody tr th {\n",
       "        vertical-align: top;\n",
       "    }\n",
       "\n",
       "    .dataframe thead th {\n",
       "        text-align: right;\n",
       "    }\n",
       "</style>\n",
       "<table border=\"1\" class=\"dataframe\">\n",
       "  <thead>\n",
       "    <tr style=\"text-align: right;\">\n",
       "      <th></th>\n",
       "      <th>antecedents</th>\n",
       "      <th>consequents</th>\n",
       "      <th>antecedent support</th>\n",
       "      <th>consequent support</th>\n",
       "      <th>support</th>\n",
       "      <th>confidence</th>\n",
       "      <th>lift</th>\n",
       "      <th>leverage</th>\n",
       "      <th>conviction</th>\n",
       "      <th>zhangs_metric</th>\n",
       "    </tr>\n",
       "  </thead>\n",
       "  <tbody>\n",
       "    <tr>\n",
       "      <th>0</th>\n",
       "      <td>(VGK)</td>\n",
       "      <td>(VPL)</td>\n",
       "      <td>0.350877</td>\n",
       "      <td>0.324561</td>\n",
       "      <td>0.254386</td>\n",
       "      <td>0.725000</td>\n",
       "      <td>2.233784</td>\n",
       "      <td>0.140505</td>\n",
       "      <td>2.456140</td>\n",
       "      <td>0.850885</td>\n",
       "    </tr>\n",
       "    <tr>\n",
       "      <th>1</th>\n",
       "      <td>(VPL)</td>\n",
       "      <td>(VGK)</td>\n",
       "      <td>0.324561</td>\n",
       "      <td>0.350877</td>\n",
       "      <td>0.254386</td>\n",
       "      <td>0.783784</td>\n",
       "      <td>2.233784</td>\n",
       "      <td>0.140505</td>\n",
       "      <td>3.002193</td>\n",
       "      <td>0.817734</td>\n",
       "    </tr>\n",
       "    <tr>\n",
       "      <th>2</th>\n",
       "      <td>(VGK)</td>\n",
       "      <td>(VWO)</td>\n",
       "      <td>0.350877</td>\n",
       "      <td>0.342105</td>\n",
       "      <td>0.254386</td>\n",
       "      <td>0.725000</td>\n",
       "      <td>2.119231</td>\n",
       "      <td>0.134349</td>\n",
       "      <td>2.392344</td>\n",
       "      <td>0.813607</td>\n",
       "    </tr>\n",
       "    <tr>\n",
       "      <th>3</th>\n",
       "      <td>(VWO)</td>\n",
       "      <td>(VGK)</td>\n",
       "      <td>0.342105</td>\n",
       "      <td>0.350877</td>\n",
       "      <td>0.254386</td>\n",
       "      <td>0.743590</td>\n",
       "      <td>2.119231</td>\n",
       "      <td>0.134349</td>\n",
       "      <td>2.531579</td>\n",
       "      <td>0.802759</td>\n",
       "    </tr>\n",
       "    <tr>\n",
       "      <th>4</th>\n",
       "      <td>(VWO)</td>\n",
       "      <td>(VPL)</td>\n",
       "      <td>0.342105</td>\n",
       "      <td>0.324561</td>\n",
       "      <td>0.271930</td>\n",
       "      <td>0.794872</td>\n",
       "      <td>2.449064</td>\n",
       "      <td>0.160896</td>\n",
       "      <td>3.292763</td>\n",
       "      <td>0.899355</td>\n",
       "    </tr>\n",
       "    <tr>\n",
       "      <th>5</th>\n",
       "      <td>(VPL)</td>\n",
       "      <td>(VWO)</td>\n",
       "      <td>0.324561</td>\n",
       "      <td>0.342105</td>\n",
       "      <td>0.271930</td>\n",
       "      <td>0.837838</td>\n",
       "      <td>2.449064</td>\n",
       "      <td>0.160896</td>\n",
       "      <td>4.057018</td>\n",
       "      <td>0.875995</td>\n",
       "    </tr>\n",
       "    <tr>\n",
       "      <th>6</th>\n",
       "      <td>(VTI)</td>\n",
       "      <td>(VXUS)</td>\n",
       "      <td>0.236842</td>\n",
       "      <td>0.254386</td>\n",
       "      <td>0.219298</td>\n",
       "      <td>0.925926</td>\n",
       "      <td>3.639847</td>\n",
       "      <td>0.159049</td>\n",
       "      <td>10.065789</td>\n",
       "      <td>0.950345</td>\n",
       "    </tr>\n",
       "    <tr>\n",
       "      <th>7</th>\n",
       "      <td>(VXUS)</td>\n",
       "      <td>(VTI)</td>\n",
       "      <td>0.254386</td>\n",
       "      <td>0.236842</td>\n",
       "      <td>0.219298</td>\n",
       "      <td>0.862069</td>\n",
       "      <td>3.639847</td>\n",
       "      <td>0.159049</td>\n",
       "      <td>5.532895</td>\n",
       "      <td>0.972706</td>\n",
       "    </tr>\n",
       "    <tr>\n",
       "      <th>8</th>\n",
       "      <td>(VGK, VT)</td>\n",
       "      <td>(VPL)</td>\n",
       "      <td>0.114035</td>\n",
       "      <td>0.324561</td>\n",
       "      <td>0.105263</td>\n",
       "      <td>0.923077</td>\n",
       "      <td>2.844075</td>\n",
       "      <td>0.068252</td>\n",
       "      <td>8.780702</td>\n",
       "      <td>0.731848</td>\n",
       "    </tr>\n",
       "    <tr>\n",
       "      <th>9</th>\n",
       "      <td>(VPL, VT)</td>\n",
       "      <td>(VGK)</td>\n",
       "      <td>0.114035</td>\n",
       "      <td>0.350877</td>\n",
       "      <td>0.105263</td>\n",
       "      <td>0.923077</td>\n",
       "      <td>2.630769</td>\n",
       "      <td>0.065251</td>\n",
       "      <td>8.438596</td>\n",
       "      <td>0.699670</td>\n",
       "    </tr>\n",
       "    <tr>\n",
       "      <th>10</th>\n",
       "      <td>(VGK, VWO)</td>\n",
       "      <td>(VPL)</td>\n",
       "      <td>0.254386</td>\n",
       "      <td>0.324561</td>\n",
       "      <td>0.219298</td>\n",
       "      <td>0.862069</td>\n",
       "      <td>2.656104</td>\n",
       "      <td>0.136734</td>\n",
       "      <td>4.896930</td>\n",
       "      <td>0.836235</td>\n",
       "    </tr>\n",
       "    <tr>\n",
       "      <th>11</th>\n",
       "      <td>(VGK, VPL)</td>\n",
       "      <td>(VWO)</td>\n",
       "      <td>0.254386</td>\n",
       "      <td>0.342105</td>\n",
       "      <td>0.219298</td>\n",
       "      <td>0.862069</td>\n",
       "      <td>2.519894</td>\n",
       "      <td>0.132271</td>\n",
       "      <td>4.769737</td>\n",
       "      <td>0.808941</td>\n",
       "    </tr>\n",
       "    <tr>\n",
       "      <th>12</th>\n",
       "      <td>(VPL, VWO)</td>\n",
       "      <td>(VGK)</td>\n",
       "      <td>0.271930</td>\n",
       "      <td>0.350877</td>\n",
       "      <td>0.219298</td>\n",
       "      <td>0.806452</td>\n",
       "      <td>2.298387</td>\n",
       "      <td>0.123884</td>\n",
       "      <td>3.353801</td>\n",
       "      <td>0.775904</td>\n",
       "    </tr>\n",
       "    <tr>\n",
       "      <th>13</th>\n",
       "      <td>(VGK)</td>\n",
       "      <td>(VPL, VWO)</td>\n",
       "      <td>0.350877</td>\n",
       "      <td>0.271930</td>\n",
       "      <td>0.219298</td>\n",
       "      <td>0.625000</td>\n",
       "      <td>2.298387</td>\n",
       "      <td>0.123884</td>\n",
       "      <td>1.941520</td>\n",
       "      <td>0.870270</td>\n",
       "    </tr>\n",
       "    <tr>\n",
       "      <th>14</th>\n",
       "      <td>(VWO)</td>\n",
       "      <td>(VGK, VPL)</td>\n",
       "      <td>0.342105</td>\n",
       "      <td>0.254386</td>\n",
       "      <td>0.219298</td>\n",
       "      <td>0.641026</td>\n",
       "      <td>2.519894</td>\n",
       "      <td>0.132271</td>\n",
       "      <td>2.077068</td>\n",
       "      <td>0.916800</td>\n",
       "    </tr>\n",
       "    <tr>\n",
       "      <th>15</th>\n",
       "      <td>(VPL)</td>\n",
       "      <td>(VGK, VWO)</td>\n",
       "      <td>0.324561</td>\n",
       "      <td>0.254386</td>\n",
       "      <td>0.219298</td>\n",
       "      <td>0.675676</td>\n",
       "      <td>2.656104</td>\n",
       "      <td>0.136734</td>\n",
       "      <td>2.298977</td>\n",
       "      <td>0.923117</td>\n",
       "    </tr>\n",
       "  </tbody>\n",
       "</table>\n",
       "</div>"
      ],
      "text/plain": [
       "   antecedents consequents  antecedent support  consequent support   support  \\\n",
       "0        (VGK)       (VPL)            0.350877            0.324561  0.254386   \n",
       "1        (VPL)       (VGK)            0.324561            0.350877  0.254386   \n",
       "2        (VGK)       (VWO)            0.350877            0.342105  0.254386   \n",
       "3        (VWO)       (VGK)            0.342105            0.350877  0.254386   \n",
       "4        (VWO)       (VPL)            0.342105            0.324561  0.271930   \n",
       "5        (VPL)       (VWO)            0.324561            0.342105  0.271930   \n",
       "6        (VTI)      (VXUS)            0.236842            0.254386  0.219298   \n",
       "7       (VXUS)       (VTI)            0.254386            0.236842  0.219298   \n",
       "8    (VGK, VT)       (VPL)            0.114035            0.324561  0.105263   \n",
       "9    (VPL, VT)       (VGK)            0.114035            0.350877  0.105263   \n",
       "10  (VGK, VWO)       (VPL)            0.254386            0.324561  0.219298   \n",
       "11  (VGK, VPL)       (VWO)            0.254386            0.342105  0.219298   \n",
       "12  (VPL, VWO)       (VGK)            0.271930            0.350877  0.219298   \n",
       "13       (VGK)  (VPL, VWO)            0.350877            0.271930  0.219298   \n",
       "14       (VWO)  (VGK, VPL)            0.342105            0.254386  0.219298   \n",
       "15       (VPL)  (VGK, VWO)            0.324561            0.254386  0.219298   \n",
       "\n",
       "    confidence      lift  leverage  conviction  zhangs_metric  \n",
       "0     0.725000  2.233784  0.140505    2.456140       0.850885  \n",
       "1     0.783784  2.233784  0.140505    3.002193       0.817734  \n",
       "2     0.725000  2.119231  0.134349    2.392344       0.813607  \n",
       "3     0.743590  2.119231  0.134349    2.531579       0.802759  \n",
       "4     0.794872  2.449064  0.160896    3.292763       0.899355  \n",
       "5     0.837838  2.449064  0.160896    4.057018       0.875995  \n",
       "6     0.925926  3.639847  0.159049   10.065789       0.950345  \n",
       "7     0.862069  3.639847  0.159049    5.532895       0.972706  \n",
       "8     0.923077  2.844075  0.068252    8.780702       0.731848  \n",
       "9     0.923077  2.630769  0.065251    8.438596       0.699670  \n",
       "10    0.862069  2.656104  0.136734    4.896930       0.836235  \n",
       "11    0.862069  2.519894  0.132271    4.769737       0.808941  \n",
       "12    0.806452  2.298387  0.123884    3.353801       0.775904  \n",
       "13    0.625000  2.298387  0.123884    1.941520       0.870270  \n",
       "14    0.641026  2.519894  0.132271    2.077068       0.916800  \n",
       "15    0.675676  2.656104  0.136734    2.298977       0.923117  "
      ]
     },
     "execution_count": 30,
     "metadata": {},
     "output_type": "execute_result"
    }
   ],
   "source": [
    "from mlxtend.frequent_patterns import association_rules\n",
    "\n",
    "association_rules(frequent_itemsets, metric=\"confidence\", min_threshold=0.51)"
   ]
  }
 ],
 "metadata": {
  "celltoolbar": "Slideshow",
  "kernelspec": {
   "display_name": "Python 3 (ipykernel)",
   "language": "python",
   "name": "python3"
  },
  "language_info": {
   "codemirror_mode": {
    "name": "ipython",
    "version": 3
   },
   "file_extension": ".py",
   "mimetype": "text/x-python",
   "name": "python",
   "nbconvert_exporter": "python",
   "pygments_lexer": "ipython3",
   "version": "3.11.4"
  }
 },
 "nbformat": 4,
 "nbformat_minor": 5
}
